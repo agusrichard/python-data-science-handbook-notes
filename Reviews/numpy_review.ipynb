{
  "nbformat": 4,
  "nbformat_minor": 0,
  "metadata": {
    "colab": {
      "name": "numpy-review.ipynb",
      "provenance": [],
      "collapsed_sections": []
    },
    "kernelspec": {
      "name": "python3",
      "display_name": "Python 3"
    }
  },
  "cells": [
    {
      "cell_type": "markdown",
      "metadata": {
        "id": "iKu-ElyC_OaO",
        "colab_type": "text"
      },
      "source": [
        "# NumPy Review"
      ]
    },
    {
      "cell_type": "code",
      "metadata": {
        "id": "S5xlyUU___tf",
        "colab_type": "code",
        "outputId": "b362e024-6be0-434b-b0e1-1f08c64a70ff",
        "colab": {
          "base_uri": "https://localhost:8080/",
          "height": 34
        }
      },
      "source": [
        "import numpy as np\n",
        "print(np.__version__)"
      ],
      "execution_count": 1,
      "outputs": [
        {
          "output_type": "stream",
          "text": [
            "1.18.3\n"
          ],
          "name": "stdout"
        }
      ]
    },
    {
      "cell_type": "markdown",
      "metadata": {
        "id": "5cizHrQcRSpG",
        "colab_type": "text"
      },
      "source": [
        "---"
      ]
    },
    {
      "cell_type": "markdown",
      "metadata": {
        "id": "CBDVM1q2Zk0E",
        "colab_type": "text"
      },
      "source": [
        "## Undestanding Data Types in Python"
      ]
    },
    {
      "cell_type": "markdown",
      "metadata": {
        "id": "Vlm3e7Z8X5YJ",
        "colab_type": "text"
      },
      "source": [
        "### A Python List is More Than Just a List"
      ]
    },
    {
      "cell_type": "code",
      "metadata": {
        "id": "0FGMpfBFAD58",
        "colab_type": "code",
        "outputId": "7ee817a9-1793-4131-ded4-909df866e4a5",
        "colab": {
          "base_uri": "https://localhost:8080/",
          "height": 34
        }
      },
      "source": [
        "L = list(range(10))\n",
        "print(L)"
      ],
      "execution_count": 2,
      "outputs": [
        {
          "output_type": "stream",
          "text": [
            "[0, 1, 2, 3, 4, 5, 6, 7, 8, 9]\n"
          ],
          "name": "stdout"
        }
      ]
    },
    {
      "cell_type": "code",
      "metadata": {
        "id": "GgQA7Er_YFPA",
        "colab_type": "code",
        "outputId": "4a69dae5-ab28-416e-8f60-79a834a9f2d7",
        "colab": {
          "base_uri": "https://localhost:8080/",
          "height": 34
        }
      },
      "source": [
        "type(L[0])"
      ],
      "execution_count": 3,
      "outputs": [
        {
          "output_type": "execute_result",
          "data": {
            "text/plain": [
              "int"
            ]
          },
          "metadata": {
            "tags": []
          },
          "execution_count": 3
        }
      ]
    },
    {
      "cell_type": "code",
      "metadata": {
        "id": "lUOMIO40YGmK",
        "colab_type": "code",
        "outputId": "b3b198f9-0baf-4d15-92f6-9d27f754857e",
        "colab": {
          "base_uri": "https://localhost:8080/",
          "height": 34
        }
      },
      "source": [
        "L2 = [str(c) for c in L]\n",
        "print(L2)"
      ],
      "execution_count": 4,
      "outputs": [
        {
          "output_type": "stream",
          "text": [
            "['0', '1', '2', '3', '4', '5', '6', '7', '8', '9']\n"
          ],
          "name": "stdout"
        }
      ]
    },
    {
      "cell_type": "code",
      "metadata": {
        "id": "bwUehFFNYNmJ",
        "colab_type": "code",
        "outputId": "a45d3f6f-af3e-460a-fef1-87c21cd9102e",
        "colab": {
          "base_uri": "https://localhost:8080/",
          "height": 34
        }
      },
      "source": [
        "import array\n",
        "L = list(range(10))\n",
        "A = array.array('i', L)\n",
        "print(A)"
      ],
      "execution_count": 5,
      "outputs": [
        {
          "output_type": "stream",
          "text": [
            "array('i', [0, 1, 2, 3, 4, 5, 6, 7, 8, 9])\n"
          ],
          "name": "stdout"
        }
      ]
    },
    {
      "cell_type": "code",
      "metadata": {
        "id": "F0nk1xe7Yr60",
        "colab_type": "code",
        "outputId": "7726371d-40d2-4802-a9f7-780db7b7e040",
        "colab": {
          "base_uri": "https://localhost:8080/",
          "height": 54
        }
      },
      "source": [
        "print([type(el) for el in A])"
      ],
      "execution_count": 6,
      "outputs": [
        {
          "output_type": "stream",
          "text": [
            "[<class 'int'>, <class 'int'>, <class 'int'>, <class 'int'>, <class 'int'>, <class 'int'>, <class 'int'>, <class 'int'>, <class 'int'>, <class 'int'>]\n"
          ],
          "name": "stdout"
        }
      ]
    },
    {
      "cell_type": "markdown",
      "metadata": {
        "id": "ZVMb3G_EZYD_",
        "colab_type": "text"
      },
      "source": [
        "### Creating Arrays from Python Lists"
      ]
    },
    {
      "cell_type": "code",
      "metadata": {
        "id": "wntXVDNsZtSH",
        "colab_type": "code",
        "outputId": "804ba27d-6d06-48d0-9ef0-5f1b4a61602b",
        "colab": {
          "base_uri": "https://localhost:8080/",
          "height": 34
        }
      },
      "source": [
        "np.array([1, 2, 3])"
      ],
      "execution_count": 7,
      "outputs": [
        {
          "output_type": "execute_result",
          "data": {
            "text/plain": [
              "array([1, 2, 3])"
            ]
          },
          "metadata": {
            "tags": []
          },
          "execution_count": 7
        }
      ]
    },
    {
      "cell_type": "code",
      "metadata": {
        "id": "ChodHe7rZveJ",
        "colab_type": "code",
        "outputId": "2de7c6dc-526a-400d-a302-c46e430c19b0",
        "colab": {
          "base_uri": "https://localhost:8080/",
          "height": 34
        }
      },
      "source": [
        "np.array([1, 2, 3.4])"
      ],
      "execution_count": 8,
      "outputs": [
        {
          "output_type": "execute_result",
          "data": {
            "text/plain": [
              "array([1. , 2. , 3.4])"
            ]
          },
          "metadata": {
            "tags": []
          },
          "execution_count": 8
        }
      ]
    },
    {
      "cell_type": "code",
      "metadata": {
        "id": "pnmyLL6XZzgk",
        "colab_type": "code",
        "outputId": "7f8051d6-f43a-4124-eb03-655cdfd4c4ec",
        "colab": {
          "base_uri": "https://localhost:8080/",
          "height": 34
        }
      },
      "source": [
        "np.array([1, 2, 3, 4], dtype='float32')"
      ],
      "execution_count": 9,
      "outputs": [
        {
          "output_type": "execute_result",
          "data": {
            "text/plain": [
              "array([1., 2., 3., 4.], dtype=float32)"
            ]
          },
          "metadata": {
            "tags": []
          },
          "execution_count": 9
        }
      ]
    },
    {
      "cell_type": "code",
      "metadata": {
        "id": "HZ63brakZ58e",
        "colab_type": "code",
        "outputId": "6d8ac6e2-d49f-47aa-ae5c-19b42e0d45a7",
        "colab": {
          "base_uri": "https://localhost:8080/",
          "height": 102
        }
      },
      "source": [
        "np.array([range(i+1, i+5) for i in range(0, 10, 2)])"
      ],
      "execution_count": 10,
      "outputs": [
        {
          "output_type": "execute_result",
          "data": {
            "text/plain": [
              "array([[ 1,  2,  3,  4],\n",
              "       [ 3,  4,  5,  6],\n",
              "       [ 5,  6,  7,  8],\n",
              "       [ 7,  8,  9, 10],\n",
              "       [ 9, 10, 11, 12]])"
            ]
          },
          "metadata": {
            "tags": []
          },
          "execution_count": 10
        }
      ]
    },
    {
      "cell_type": "markdown",
      "metadata": {
        "id": "hj3w32UAaFDn",
        "colab_type": "text"
      },
      "source": [
        "### Creating Arrays from Scratch"
      ]
    },
    {
      "cell_type": "code",
      "metadata": {
        "id": "k6maIiGiaSnX",
        "colab_type": "code",
        "outputId": "adf0e897-32c4-47e6-a6b0-4aa7046a09c1",
        "colab": {
          "base_uri": "https://localhost:8080/",
          "height": 34
        }
      },
      "source": [
        "# Create a length-10 integer array filled with zeros\n",
        "np.zeros(10, dtype=\"float32\")"
      ],
      "execution_count": 11,
      "outputs": [
        {
          "output_type": "execute_result",
          "data": {
            "text/plain": [
              "array([0., 0., 0., 0., 0., 0., 0., 0., 0., 0.], dtype=float32)"
            ]
          },
          "metadata": {
            "tags": []
          },
          "execution_count": 11
        }
      ]
    },
    {
      "cell_type": "code",
      "metadata": {
        "id": "zA51drXhaaTt",
        "colab_type": "code",
        "outputId": "4b0972c3-0ca4-4f8c-ed33-0a71a46d5ea5",
        "colab": {
          "base_uri": "https://localhost:8080/",
          "height": 68
        }
      },
      "source": [
        " # Create a 3x5 floating-point array filled with 1s        \n",
        " np.ones((3, 5), dtype=float)"
      ],
      "execution_count": 12,
      "outputs": [
        {
          "output_type": "execute_result",
          "data": {
            "text/plain": [
              "array([[1., 1., 1., 1., 1.],\n",
              "       [1., 1., 1., 1., 1.],\n",
              "       [1., 1., 1., 1., 1.]])"
            ]
          },
          "metadata": {
            "tags": []
          },
          "execution_count": 12
        }
      ]
    },
    {
      "cell_type": "code",
      "metadata": {
        "id": "2S09BIIwalQh",
        "colab_type": "code",
        "outputId": "9b5b9c86-0fee-4bd5-9274-91eac617dbed",
        "colab": {
          "base_uri": "https://localhost:8080/",
          "height": 68
        }
      },
      "source": [
        "# Create a 3x5 array filled with 3.14 \n",
        "np.full((3, 4), 3.14)"
      ],
      "execution_count": 13,
      "outputs": [
        {
          "output_type": "execute_result",
          "data": {
            "text/plain": [
              "array([[3.14, 3.14, 3.14, 3.14],\n",
              "       [3.14, 3.14, 3.14, 3.14],\n",
              "       [3.14, 3.14, 3.14, 3.14]])"
            ]
          },
          "metadata": {
            "tags": []
          },
          "execution_count": 13
        }
      ]
    },
    {
      "cell_type": "code",
      "metadata": {
        "id": "8aVctCO2azEC",
        "colab_type": "code",
        "outputId": "d784a08c-0aad-4bd8-8dfe-27f4cf1b2f01",
        "colab": {
          "base_uri": "https://localhost:8080/",
          "height": 34
        }
      },
      "source": [
        "# Create an array filled with a linear sequence\n",
        "# Starting at 0, ending at 20, stepping by 2        #\n",
        "# (this is similar to the built-in range() function\n",
        "np.arange(0, 10)"
      ],
      "execution_count": 14,
      "outputs": [
        {
          "output_type": "execute_result",
          "data": {
            "text/plain": [
              "array([0, 1, 2, 3, 4, 5, 6, 7, 8, 9])"
            ]
          },
          "metadata": {
            "tags": []
          },
          "execution_count": 14
        }
      ]
    },
    {
      "cell_type": "code",
      "metadata": {
        "id": "IRXU64znbEc1",
        "colab_type": "code",
        "outputId": "687fd1c3-45ec-4573-ffe3-eac4e70db565",
        "colab": {
          "base_uri": "https://localhost:8080/",
          "height": 34
        }
      },
      "source": [
        "# Create an array of five values evenly spaced between 0 and 1\n",
        "np.linspace(0, 1, 5)"
      ],
      "execution_count": 15,
      "outputs": [
        {
          "output_type": "execute_result",
          "data": {
            "text/plain": [
              "array([0.  , 0.25, 0.5 , 0.75, 1.  ])"
            ]
          },
          "metadata": {
            "tags": []
          },
          "execution_count": 15
        }
      ]
    },
    {
      "cell_type": "code",
      "metadata": {
        "id": "bFWXPrpKbZPi",
        "colab_type": "code",
        "outputId": "c89771bf-6bac-42bd-c691-6fa4eb3b41a5",
        "colab": {
          "base_uri": "https://localhost:8080/",
          "height": 68
        }
      },
      "source": [
        " # Create a 3x3 array of uniformly distributed        \n",
        " # random values between 0 and 1        \n",
        " np.random.random((3, 3))"
      ],
      "execution_count": 16,
      "outputs": [
        {
          "output_type": "execute_result",
          "data": {
            "text/plain": [
              "array([[0.03208598, 0.22165238, 0.40362198],\n",
              "       [0.98165077, 0.75309918, 0.87159666],\n",
              "       [0.81256151, 0.78777138, 0.88035379]])"
            ]
          },
          "metadata": {
            "tags": []
          },
          "execution_count": 16
        }
      ]
    },
    {
      "cell_type": "code",
      "metadata": {
        "id": "fIFZung4been",
        "colab_type": "code",
        "outputId": "b159aaed-12c7-4060-db5d-a703ac61bf4e",
        "colab": {
          "base_uri": "https://localhost:8080/",
          "height": 68
        }
      },
      "source": [
        " # Create a 3x3 array of normally distributed random values        \n",
        " # with mean 0 and standard deviation 1        \n",
        " np.random.normal(0, 1, (3, 3))"
      ],
      "execution_count": 17,
      "outputs": [
        {
          "output_type": "execute_result",
          "data": {
            "text/plain": [
              "array([[ 2.04892704, -0.60718933, -0.75965032],\n",
              "       [ 1.35705074, -0.04418928,  0.9401743 ],\n",
              "       [ 0.36941918,  0.2910828 , -0.06495402]])"
            ]
          },
          "metadata": {
            "tags": []
          },
          "execution_count": 17
        }
      ]
    },
    {
      "cell_type": "code",
      "metadata": {
        "id": "cW4Z5mmxbjAB",
        "colab_type": "code",
        "outputId": "6a83341e-b142-4b25-bdb9-43c9dece509b",
        "colab": {
          "base_uri": "https://localhost:8080/",
          "height": 68
        }
      },
      "source": [
        "# Create a 3x3 array of random integers in the interval [0, 10)        \n",
        "np.random.randint(0, 10, (3, 3))"
      ],
      "execution_count": 18,
      "outputs": [
        {
          "output_type": "execute_result",
          "data": {
            "text/plain": [
              "array([[2, 2, 5],\n",
              "       [6, 0, 2],\n",
              "       [5, 8, 6]])"
            ]
          },
          "metadata": {
            "tags": []
          },
          "execution_count": 18
        }
      ]
    },
    {
      "cell_type": "code",
      "metadata": {
        "id": "OLWd2joHbrqW",
        "colab_type": "code",
        "outputId": "944e98f4-0c5e-443a-a414-750609db6885",
        "colab": {
          "base_uri": "https://localhost:8080/",
          "height": 68
        }
      },
      "source": [
        "# Create a 3x3 identity matrix        \n",
        "np.eye(3)"
      ],
      "execution_count": 19,
      "outputs": [
        {
          "output_type": "execute_result",
          "data": {
            "text/plain": [
              "array([[1., 0., 0.],\n",
              "       [0., 1., 0.],\n",
              "       [0., 0., 1.]])"
            ]
          },
          "metadata": {
            "tags": []
          },
          "execution_count": 19
        }
      ]
    },
    {
      "cell_type": "code",
      "metadata": {
        "id": "Dm3qpFEgbvHv",
        "colab_type": "code",
        "outputId": "4d638a35-cb1c-4584-e5e6-70eddc2a7517",
        "colab": {
          "base_uri": "https://localhost:8080/",
          "height": 34
        }
      },
      "source": [
        "# Create an uninitialized array of three integers        \n",
        "# The values will be whatever happens to already exist at that        \n",
        "# memory location        \n",
        "np.empty(3)"
      ],
      "execution_count": 20,
      "outputs": [
        {
          "output_type": "execute_result",
          "data": {
            "text/plain": [
              "array([1., 1., 1.])"
            ]
          },
          "metadata": {
            "tags": []
          },
          "execution_count": 20
        }
      ]
    },
    {
      "cell_type": "markdown",
      "metadata": {
        "id": "9ePSUmNXb2Lw",
        "colab_type": "text"
      },
      "source": [
        "### NumPy Standard Data Types"
      ]
    },
    {
      "cell_type": "code",
      "metadata": {
        "id": "C6Z_ZuoVb5Kg",
        "colab_type": "code",
        "outputId": "f31d7bf0-302c-4054-97c3-2df4f71a3aab",
        "colab": {
          "base_uri": "https://localhost:8080/",
          "height": 34
        }
      },
      "source": [
        "np.zeros(10, dtype='int16')"
      ],
      "execution_count": 21,
      "outputs": [
        {
          "output_type": "execute_result",
          "data": {
            "text/plain": [
              "array([0, 0, 0, 0, 0, 0, 0, 0, 0, 0], dtype=int16)"
            ]
          },
          "metadata": {
            "tags": []
          },
          "execution_count": 21
        }
      ]
    },
    {
      "cell_type": "code",
      "metadata": {
        "id": "Yv5Mc_5Ocwg8",
        "colab_type": "code",
        "outputId": "8791ed72-c180-4352-eaeb-ec98fb93b1f8",
        "colab": {
          "base_uri": "https://localhost:8080/",
          "height": 51
        }
      },
      "source": [
        "np.zeros(19, dtype=np.int16)"
      ],
      "execution_count": 22,
      "outputs": [
        {
          "output_type": "execute_result",
          "data": {
            "text/plain": [
              "array([0, 0, 0, 0, 0, 0, 0, 0, 0, 0, 0, 0, 0, 0, 0, 0, 0, 0, 0],\n",
              "      dtype=int16)"
            ]
          },
          "metadata": {
            "tags": []
          },
          "execution_count": 22
        }
      ]
    },
    {
      "cell_type": "markdown",
      "metadata": {
        "id": "mUO-b1jZRTgL",
        "colab_type": "text"
      },
      "source": [
        "---"
      ]
    },
    {
      "cell_type": "markdown",
      "metadata": {
        "id": "R7yT3dmAcz_5",
        "colab_type": "text"
      },
      "source": [
        "## The Basics of NumPy Arrays"
      ]
    },
    {
      "cell_type": "code",
      "metadata": {
        "id": "Kc95CMk3dFVT",
        "colab_type": "code",
        "colab": {}
      },
      "source": [
        "np.random.seed(21)"
      ],
      "execution_count": 0,
      "outputs": []
    },
    {
      "cell_type": "code",
      "metadata": {
        "id": "oC2s6KZRdU8z",
        "colab_type": "code",
        "outputId": "dcd745ef-fa3b-49a0-d498-ca79ceedb510",
        "colab": {
          "base_uri": "https://localhost:8080/",
          "height": 68
        }
      },
      "source": [
        "x1 = np.random.randint(10, size=6)\n",
        "x2 = np.random.randint(10, size=(3, 2))\n",
        "x3 = np.random.randint(10, size=(2, 3, 4))\n",
        "\n",
        "print(\"x3 ndim: \", x3.ndim)       \n",
        "print(\"x3 shape:\", x3.shape)       \n",
        "print(\"x3 size: \", x3.size)"
      ],
      "execution_count": 24,
      "outputs": [
        {
          "output_type": "stream",
          "text": [
            "x3 ndim:  3\n",
            "x3 shape: (2, 3, 4)\n",
            "x3 size:  24\n"
          ],
          "name": "stdout"
        }
      ]
    },
    {
      "cell_type": "code",
      "metadata": {
        "id": "2FHDV7Ipdnwg",
        "colab_type": "code",
        "outputId": "1f95c2cb-4c51-4846-e38d-ec181d4bc7db",
        "colab": {
          "base_uri": "https://localhost:8080/",
          "height": 34
        }
      },
      "source": [
        "# Data type\n",
        "print(x2.dtype)"
      ],
      "execution_count": 25,
      "outputs": [
        {
          "output_type": "stream",
          "text": [
            "int64\n"
          ],
          "name": "stdout"
        }
      ]
    },
    {
      "cell_type": "code",
      "metadata": {
        "id": "j2EM5rLEdwFU",
        "colab_type": "code",
        "outputId": "65272b6b-a76c-4a21-9b2c-c4d667b57b67",
        "colab": {
          "base_uri": "https://localhost:8080/",
          "height": 51
        }
      },
      "source": [
        "print(\"itemsize:\", x3.itemsize, \"bytes\")       \n",
        "print(\"nbytes:\", x3.nbytes, \"bytes\")"
      ],
      "execution_count": 26,
      "outputs": [
        {
          "output_type": "stream",
          "text": [
            "itemsize: 8 bytes\n",
            "nbytes: 192 bytes\n"
          ],
          "name": "stdout"
        }
      ]
    },
    {
      "cell_type": "markdown",
      "metadata": {
        "id": "e01guA9qd4lE",
        "colab_type": "text"
      },
      "source": [
        "### Array Indexing: Accessing Single Elements"
      ]
    },
    {
      "cell_type": "code",
      "metadata": {
        "id": "iTNMEhG7d4F1",
        "colab_type": "code",
        "colab": {
          "base_uri": "https://localhost:8080/",
          "height": 34
        },
        "outputId": "b6a13582-b218-4aa4-8dd9-c61dfe2addc9"
      },
      "source": [
        "x1"
      ],
      "execution_count": 27,
      "outputs": [
        {
          "output_type": "execute_result",
          "data": {
            "text/plain": [
              "array([9, 8, 4, 0, 0, 8])"
            ]
          },
          "metadata": {
            "tags": []
          },
          "execution_count": 27
        }
      ]
    },
    {
      "cell_type": "code",
      "metadata": {
        "id": "pDTNysTZrWee",
        "colab_type": "code",
        "colab": {
          "base_uri": "https://localhost:8080/",
          "height": 51
        },
        "outputId": "052d856f-ced6-46ef-b5d1-90663494bed9"
      },
      "source": [
        "print(x1[0])\n",
        "print(x1[3])"
      ],
      "execution_count": 28,
      "outputs": [
        {
          "output_type": "stream",
          "text": [
            "9\n",
            "0\n"
          ],
          "name": "stdout"
        }
      ]
    },
    {
      "cell_type": "code",
      "metadata": {
        "id": "tEWUzUMbrZmP",
        "colab_type": "code",
        "colab": {
          "base_uri": "https://localhost:8080/",
          "height": 68
        },
        "outputId": "b01aadf9-bb79-4879-963c-6a316447404b"
      },
      "source": [
        "x2 = np.random.randint(0, 10, (3, 4))\n",
        "print(x2)"
      ],
      "execution_count": 29,
      "outputs": [
        {
          "output_type": "stream",
          "text": [
            "[[0 2 6 4]\n",
            " [9 0 0 5]\n",
            " [5 9 6 3]]\n"
          ],
          "name": "stdout"
        }
      ]
    },
    {
      "cell_type": "code",
      "metadata": {
        "id": "c4E3tDTQrm19",
        "colab_type": "code",
        "colab": {
          "base_uri": "https://localhost:8080/",
          "height": 34
        },
        "outputId": "e9c31e64-d1d5-4654-9b56-3af9ad92afe2"
      },
      "source": [
        "print(x2[0, 0])"
      ],
      "execution_count": 30,
      "outputs": [
        {
          "output_type": "stream",
          "text": [
            "0\n"
          ],
          "name": "stdout"
        }
      ]
    },
    {
      "cell_type": "code",
      "metadata": {
        "id": "Q2qrf9barrbv",
        "colab_type": "code",
        "colab": {}
      },
      "source": [
        "x2[0, 0] = 1"
      ],
      "execution_count": 0,
      "outputs": []
    },
    {
      "cell_type": "code",
      "metadata": {
        "id": "aRX_5nJNrvrm",
        "colab_type": "code",
        "colab": {
          "base_uri": "https://localhost:8080/",
          "height": 68
        },
        "outputId": "411dae3a-fb73-483a-b969-f847fbaeb28c"
      },
      "source": [
        "some_arr = x2.copy()\n",
        "print(some_arr)"
      ],
      "execution_count": 32,
      "outputs": [
        {
          "output_type": "stream",
          "text": [
            "[[1 2 6 4]\n",
            " [9 0 0 5]\n",
            " [5 9 6 3]]\n"
          ],
          "name": "stdout"
        }
      ]
    },
    {
      "cell_type": "markdown",
      "metadata": {
        "id": "CBKkz_QlrzbQ",
        "colab_type": "text"
      },
      "source": [
        "### Array Slicing: Accessing Subarrays"
      ]
    },
    {
      "cell_type": "code",
      "metadata": {
        "id": "waHc5i01r9IB",
        "colab_type": "code",
        "colab": {
          "base_uri": "https://localhost:8080/",
          "height": 34
        },
        "outputId": "398a979f-b0cd-4c47-95a8-de38268b0e68"
      },
      "source": [
        "x = np.arange(10)\n",
        "x"
      ],
      "execution_count": 33,
      "outputs": [
        {
          "output_type": "execute_result",
          "data": {
            "text/plain": [
              "array([0, 1, 2, 3, 4, 5, 6, 7, 8, 9])"
            ]
          },
          "metadata": {
            "tags": []
          },
          "execution_count": 33
        }
      ]
    },
    {
      "cell_type": "code",
      "metadata": {
        "id": "vZ7g03wDsE40",
        "colab_type": "code",
        "colab": {
          "base_uri": "https://localhost:8080/",
          "height": 51
        },
        "outputId": "09598d4c-1d3a-4c94-cc87-b7a79be7ac4a"
      },
      "source": [
        "print(x[:5])\n",
        "print(x[5:])"
      ],
      "execution_count": 34,
      "outputs": [
        {
          "output_type": "stream",
          "text": [
            "[0 1 2 3 4]\n",
            "[5 6 7 8 9]\n"
          ],
          "name": "stdout"
        }
      ]
    },
    {
      "cell_type": "code",
      "metadata": {
        "id": "E9yyn6OWsMK3",
        "colab_type": "code",
        "colab": {
          "base_uri": "https://localhost:8080/",
          "height": 34
        },
        "outputId": "3f31a316-8de6-454c-b7a8-a55d717ea337"
      },
      "source": [
        "print(x[::-1])      # Reversed"
      ],
      "execution_count": 35,
      "outputs": [
        {
          "output_type": "stream",
          "text": [
            "[9 8 7 6 5 4 3 2 1 0]\n"
          ],
          "name": "stdout"
        }
      ]
    },
    {
      "cell_type": "code",
      "metadata": {
        "id": "nNBWbXeQsgR8",
        "colab_type": "code",
        "colab": {
          "base_uri": "https://localhost:8080/",
          "height": 34
        },
        "outputId": "e831a56d-1306-4f81-d613-7b8caf03b5c1"
      },
      "source": [
        "print(x[5::-2])"
      ],
      "execution_count": 36,
      "outputs": [
        {
          "output_type": "stream",
          "text": [
            "[5 3 1]\n"
          ],
          "name": "stdout"
        }
      ]
    },
    {
      "cell_type": "code",
      "metadata": {
        "id": "Y76nfKqask2W",
        "colab_type": "code",
        "colab": {
          "base_uri": "https://localhost:8080/",
          "height": 68
        },
        "outputId": "78aa0922-5fc9-493a-f33c-ebea3040013b"
      },
      "source": [
        "x2 = np.random.randint(0, 10, (3, 4))\n",
        "x2"
      ],
      "execution_count": 37,
      "outputs": [
        {
          "output_type": "execute_result",
          "data": {
            "text/plain": [
              "array([[4, 6, 9, 0],\n",
              "       [0, 0, 9, 5],\n",
              "       [2, 9, 7, 1]])"
            ]
          },
          "metadata": {
            "tags": []
          },
          "execution_count": 37
        }
      ]
    },
    {
      "cell_type": "code",
      "metadata": {
        "id": "bt7ImzUnsyQw",
        "colab_type": "code",
        "colab": {
          "base_uri": "https://localhost:8080/",
          "height": 68
        },
        "outputId": "d83802fc-0404-4daf-e08d-27eb7e2e418f"
      },
      "source": [
        "print(x2[:, :])"
      ],
      "execution_count": 38,
      "outputs": [
        {
          "output_type": "stream",
          "text": [
            "[[4 6 9 0]\n",
            " [0 0 9 5]\n",
            " [2 9 7 1]]\n"
          ],
          "name": "stdout"
        }
      ]
    },
    {
      "cell_type": "code",
      "metadata": {
        "id": "-sLBDAUjs3bY",
        "colab_type": "code",
        "colab": {
          "base_uri": "https://localhost:8080/",
          "height": 51
        },
        "outputId": "5dfd1464-1fb9-4f12-fa51-7a86c53c3377"
      },
      "source": [
        "print(x2[-2:, -2:])"
      ],
      "execution_count": 39,
      "outputs": [
        {
          "output_type": "stream",
          "text": [
            "[[9 5]\n",
            " [7 1]]\n"
          ],
          "name": "stdout"
        }
      ]
    },
    {
      "cell_type": "code",
      "metadata": {
        "id": "IzLINVses8o5",
        "colab_type": "code",
        "colab": {
          "base_uri": "https://localhost:8080/",
          "height": 51
        },
        "outputId": "b849624b-bd58-4ffd-e637-3f76081b7082"
      },
      "source": [
        "x2_sub = x2[:2, :2]\n",
        "x2_sub"
      ],
      "execution_count": 40,
      "outputs": [
        {
          "output_type": "execute_result",
          "data": {
            "text/plain": [
              "array([[4, 6],\n",
              "       [0, 0]])"
            ]
          },
          "metadata": {
            "tags": []
          },
          "execution_count": 40
        }
      ]
    },
    {
      "cell_type": "code",
      "metadata": {
        "id": "L-dzdgMftcRc",
        "colab_type": "code",
        "colab": {}
      },
      "source": [
        "x2_sub[0, 0] = 99"
      ],
      "execution_count": 0,
      "outputs": []
    },
    {
      "cell_type": "code",
      "metadata": {
        "id": "oEjRQVM2tf4b",
        "colab_type": "code",
        "colab": {
          "base_uri": "https://localhost:8080/",
          "height": 102
        },
        "outputId": "a1668a72-d55f-43e1-ad59-3403772b1b24"
      },
      "source": [
        "print(x2_sub)\n",
        "print(x2)"
      ],
      "execution_count": 42,
      "outputs": [
        {
          "output_type": "stream",
          "text": [
            "[[99  6]\n",
            " [ 0  0]]\n",
            "[[99  6  9  0]\n",
            " [ 0  0  9  5]\n",
            " [ 2  9  7  1]]\n"
          ],
          "name": "stdout"
        }
      ]
    },
    {
      "cell_type": "code",
      "metadata": {
        "id": "40dXSYR6thYk",
        "colab_type": "code",
        "colab": {}
      },
      "source": [
        "x2_sub_copy = x2_sub.copy()"
      ],
      "execution_count": 0,
      "outputs": []
    },
    {
      "cell_type": "code",
      "metadata": {
        "id": "T0eVTipYtsvp",
        "colab_type": "code",
        "colab": {}
      },
      "source": [
        "x2_sub_copy[0, 0] = 42"
      ],
      "execution_count": 0,
      "outputs": []
    },
    {
      "cell_type": "code",
      "metadata": {
        "id": "5nbrpn-9twX1",
        "colab_type": "code",
        "colab": {
          "base_uri": "https://localhost:8080/",
          "height": 136
        },
        "outputId": "79ba37a3-f8cc-4c48-94cb-f431e5e01b2e"
      },
      "source": [
        "print(x2)\n",
        "print(x2_sub)\n",
        "print(x2_sub_copy)"
      ],
      "execution_count": 45,
      "outputs": [
        {
          "output_type": "stream",
          "text": [
            "[[99  6  9  0]\n",
            " [ 0  0  9  5]\n",
            " [ 2  9  7  1]]\n",
            "[[99  6]\n",
            " [ 0  0]]\n",
            "[[42  6]\n",
            " [ 0  0]]\n"
          ],
          "name": "stdout"
        }
      ]
    },
    {
      "cell_type": "markdown",
      "metadata": {
        "id": "dNLvbPLft0lB",
        "colab_type": "text"
      },
      "source": [
        "### Reshaping of Arrays"
      ]
    },
    {
      "cell_type": "code",
      "metadata": {
        "id": "5skgbId4t_ou",
        "colab_type": "code",
        "colab": {
          "base_uri": "https://localhost:8080/",
          "height": 68
        },
        "outputId": "76b726de-3d9f-426a-9b00-372ca636af8c"
      },
      "source": [
        "grid = np.arange(1, 10).reshape(3, 3)\n",
        "print(grid)"
      ],
      "execution_count": 47,
      "outputs": [
        {
          "output_type": "stream",
          "text": [
            "[[1 2 3]\n",
            " [4 5 6]\n",
            " [7 8 9]]\n"
          ],
          "name": "stdout"
        }
      ]
    },
    {
      "cell_type": "code",
      "metadata": {
        "id": "x6SQ0nmIN9_A",
        "colab_type": "code",
        "colab": {
          "base_uri": "https://localhost:8080/",
          "height": 34
        },
        "outputId": "c256d7d5-b9d8-41e5-fb89-6c2dc125c66b"
      },
      "source": [
        "x = np.array([1, 2, 3])\n",
        "x"
      ],
      "execution_count": 48,
      "outputs": [
        {
          "output_type": "execute_result",
          "data": {
            "text/plain": [
              "array([1, 2, 3])"
            ]
          },
          "metadata": {
            "tags": []
          },
          "execution_count": 48
        }
      ]
    },
    {
      "cell_type": "code",
      "metadata": {
        "id": "Heidtk33OQgn",
        "colab_type": "code",
        "colab": {
          "base_uri": "https://localhost:8080/",
          "height": 34
        },
        "outputId": "eba0877b-66d3-4850-ec24-5478cc64e65f"
      },
      "source": [
        "# row vector via reshape\n",
        "x.reshape(1, 3).shape"
      ],
      "execution_count": 53,
      "outputs": [
        {
          "output_type": "execute_result",
          "data": {
            "text/plain": [
              "(1, 3)"
            ]
          },
          "metadata": {
            "tags": []
          },
          "execution_count": 53
        }
      ]
    },
    {
      "cell_type": "code",
      "metadata": {
        "id": "GdWS7IpEOTxj",
        "colab_type": "code",
        "colab": {
          "base_uri": "https://localhost:8080/",
          "height": 34
        },
        "outputId": "db204b85-5d07-4cb5-94db-29e401e62949"
      },
      "source": [
        "# row vector via newaxis\n",
        "x[np.newaxis, :]"
      ],
      "execution_count": 55,
      "outputs": [
        {
          "output_type": "execute_result",
          "data": {
            "text/plain": [
              "array([[1, 2, 3]])"
            ]
          },
          "metadata": {
            "tags": []
          },
          "execution_count": 55
        }
      ]
    },
    {
      "cell_type": "code",
      "metadata": {
        "id": "X6BVxBvLOkFt",
        "colab_type": "code",
        "colab": {
          "base_uri": "https://localhost:8080/",
          "height": 68
        },
        "outputId": "fec06be9-cee7-4955-d5de-096c77b942f5"
      },
      "source": [
        "arr = np.random.randint(0, 10, (3, 3))\n",
        "arr"
      ],
      "execution_count": 56,
      "outputs": [
        {
          "output_type": "execute_result",
          "data": {
            "text/plain": [
              "array([[8, 2, 7],\n",
              "       [8, 9, 0],\n",
              "       [9, 7, 5]])"
            ]
          },
          "metadata": {
            "tags": []
          },
          "execution_count": 56
        }
      ]
    },
    {
      "cell_type": "markdown",
      "metadata": {
        "id": "xQe5u9PRO2Ov",
        "colab_type": "text"
      },
      "source": [
        "### Array Concatenation and Splitting"
      ]
    },
    {
      "cell_type": "markdown",
      "metadata": {
        "id": "O1yF2RWJO41q",
        "colab_type": "text"
      },
      "source": [
        "#### Concatenation of arrays"
      ]
    },
    {
      "cell_type": "code",
      "metadata": {
        "id": "hsu5XxXHPPHS",
        "colab_type": "code",
        "colab": {
          "base_uri": "https://localhost:8080/",
          "height": 51
        },
        "outputId": "6a24832d-4b0a-4f8b-dc48-90e54a0e5d7e"
      },
      "source": [
        "x = np.array([2, 3, 4])\n",
        "y = np.array([5, 3, 6])\n",
        "print(x)\n",
        "print(y)"
      ],
      "execution_count": 60,
      "outputs": [
        {
          "output_type": "stream",
          "text": [
            "[2 3 4]\n",
            "[5 3 6]\n"
          ],
          "name": "stdout"
        }
      ]
    },
    {
      "cell_type": "code",
      "metadata": {
        "id": "P5CVcZlwPW9u",
        "colab_type": "code",
        "colab": {
          "base_uri": "https://localhost:8080/",
          "height": 34
        },
        "outputId": "a0be4445-c77d-4f6e-e36e-4afcb4e3b72c"
      },
      "source": [
        "np.concatenate([x, y], axis=0)"
      ],
      "execution_count": 64,
      "outputs": [
        {
          "output_type": "execute_result",
          "data": {
            "text/plain": [
              "array([2, 3, 4, 5, 3, 6])"
            ]
          },
          "metadata": {
            "tags": []
          },
          "execution_count": 64
        }
      ]
    },
    {
      "cell_type": "code",
      "metadata": {
        "id": "Ta9m_HGqPaUR",
        "colab_type": "code",
        "colab": {
          "base_uri": "https://localhost:8080/",
          "height": 119
        },
        "outputId": "17c9cc7c-ee38-4553-f448-ecd9d7e4807e"
      },
      "source": [
        "np.concatenate([grid, grid])"
      ],
      "execution_count": 66,
      "outputs": [
        {
          "output_type": "execute_result",
          "data": {
            "text/plain": [
              "array([[1, 2, 3],\n",
              "       [4, 5, 6],\n",
              "       [7, 8, 9],\n",
              "       [1, 2, 3],\n",
              "       [4, 5, 6],\n",
              "       [7, 8, 9]])"
            ]
          },
          "metadata": {
            "tags": []
          },
          "execution_count": 66
        }
      ]
    },
    {
      "cell_type": "code",
      "metadata": {
        "id": "nF7OJxd8Pqo-",
        "colab_type": "code",
        "colab": {
          "base_uri": "https://localhost:8080/",
          "height": 68
        },
        "outputId": "bea6896e-a1e5-4c80-df79-bac5269bb63b"
      },
      "source": [
        "np.concatenate([grid, grid], axis=1)"
      ],
      "execution_count": 67,
      "outputs": [
        {
          "output_type": "execute_result",
          "data": {
            "text/plain": [
              "array([[1, 2, 3, 1, 2, 3],\n",
              "       [4, 5, 6, 4, 5, 6],\n",
              "       [7, 8, 9, 7, 8, 9]])"
            ]
          },
          "metadata": {
            "tags": []
          },
          "execution_count": 67
        }
      ]
    },
    {
      "cell_type": "code",
      "metadata": {
        "id": "Feja5dyCPves",
        "colab_type": "code",
        "colab": {
          "base_uri": "https://localhost:8080/",
          "height": 85
        },
        "outputId": "a2e2a934-f573-413f-b534-2571604f6fce"
      },
      "source": [
        "# vertically stack the arrays\n",
        "np.vstack([x, grid])"
      ],
      "execution_count": 68,
      "outputs": [
        {
          "output_type": "execute_result",
          "data": {
            "text/plain": [
              "array([[2, 3, 4],\n",
              "       [1, 2, 3],\n",
              "       [4, 5, 6],\n",
              "       [7, 8, 9]])"
            ]
          },
          "metadata": {
            "tags": []
          },
          "execution_count": 68
        }
      ]
    },
    {
      "cell_type": "code",
      "metadata": {
        "id": "r2-01stCP572",
        "colab_type": "code",
        "colab": {
          "base_uri": "https://localhost:8080/",
          "height": 68
        },
        "outputId": "673dbbcf-1cf6-4a9f-caf8-d047889a9b2b"
      },
      "source": [
        "# horizontally stack the arrays\n",
        "np.hstack([x.reshape(-1, 1), grid])"
      ],
      "execution_count": 72,
      "outputs": [
        {
          "output_type": "execute_result",
          "data": {
            "text/plain": [
              "array([[2, 1, 2, 3],\n",
              "       [3, 4, 5, 6],\n",
              "       [4, 7, 8, 9]])"
            ]
          },
          "metadata": {
            "tags": []
          },
          "execution_count": 72
        }
      ]
    },
    {
      "cell_type": "markdown",
      "metadata": {
        "id": "BaL-oNa5P_UA",
        "colab_type": "text"
      },
      "source": [
        "#### Splitting of arrays"
      ]
    },
    {
      "cell_type": "code",
      "metadata": {
        "id": "JvXyc8ASQSKq",
        "colab_type": "code",
        "colab": {
          "base_uri": "https://localhost:8080/",
          "height": 34
        },
        "outputId": "1cc78f6d-f17b-4fec-855f-ce8828e5b196"
      },
      "source": [
        "x = np.arange(10)\n",
        "x"
      ],
      "execution_count": 73,
      "outputs": [
        {
          "output_type": "execute_result",
          "data": {
            "text/plain": [
              "array([0, 1, 2, 3, 4, 5, 6, 7, 8, 9])"
            ]
          },
          "metadata": {
            "tags": []
          },
          "execution_count": 73
        }
      ]
    },
    {
      "cell_type": "code",
      "metadata": {
        "id": "WP5-Oeo0Qjwm",
        "colab_type": "code",
        "colab": {
          "base_uri": "https://localhost:8080/",
          "height": 68
        },
        "outputId": "e56a5cf5-0ff6-492d-b864-1c01501874c7"
      },
      "source": [
        "x1, x2, x3 = np.split(x, [4, 7])\n",
        "print(x1)\n",
        "print(x2)\n",
        "print(x3)"
      ],
      "execution_count": 74,
      "outputs": [
        {
          "output_type": "stream",
          "text": [
            "[0 1 2 3]\n",
            "[4 5 6]\n",
            "[7 8 9]\n"
          ],
          "name": "stdout"
        }
      ]
    },
    {
      "cell_type": "code",
      "metadata": {
        "id": "JBMp5HH5Qr9K",
        "colab_type": "code",
        "colab": {
          "base_uri": "https://localhost:8080/",
          "height": 85
        },
        "outputId": "9e5c25e7-f3b0-4d6f-e536-5ee56dbb754f"
      },
      "source": [
        "grid = np.arange(16).reshape(4, 4)\n",
        "grid"
      ],
      "execution_count": 75,
      "outputs": [
        {
          "output_type": "execute_result",
          "data": {
            "text/plain": [
              "array([[ 0,  1,  2,  3],\n",
              "       [ 4,  5,  6,  7],\n",
              "       [ 8,  9, 10, 11],\n",
              "       [12, 13, 14, 15]])"
            ]
          },
          "metadata": {
            "tags": []
          },
          "execution_count": 75
        }
      ]
    },
    {
      "cell_type": "code",
      "metadata": {
        "id": "UERqop9JQ5O1",
        "colab_type": "code",
        "colab": {
          "base_uri": "https://localhost:8080/",
          "height": 85
        },
        "outputId": "a80122ab-e491-4936-da17-a776c2d0e5f7"
      },
      "source": [
        "upper, lower = np.vsplit(grid, [2])\n",
        "print(upper)\n",
        "print(lower)"
      ],
      "execution_count": 76,
      "outputs": [
        {
          "output_type": "stream",
          "text": [
            "[[0 1 2 3]\n",
            " [4 5 6 7]]\n",
            "[[ 8  9 10 11]\n",
            " [12 13 14 15]]\n"
          ],
          "name": "stdout"
        }
      ]
    },
    {
      "cell_type": "code",
      "metadata": {
        "id": "ebLO8fv4Q_Xd",
        "colab_type": "code",
        "colab": {
          "base_uri": "https://localhost:8080/",
          "height": 153
        },
        "outputId": "6ffc9374-b116-4577-a2b4-fefd1c592cac"
      },
      "source": [
        "left, right = np.hsplit(grid, [2])\n",
        "print(left)\n",
        "print(right)"
      ],
      "execution_count": 77,
      "outputs": [
        {
          "output_type": "stream",
          "text": [
            "[[ 0  1]\n",
            " [ 4  5]\n",
            " [ 8  9]\n",
            " [12 13]]\n",
            "[[ 2  3]\n",
            " [ 6  7]\n",
            " [10 11]\n",
            " [14 15]]\n"
          ],
          "name": "stdout"
        }
      ]
    },
    {
      "cell_type": "markdown",
      "metadata": {
        "id": "P9rc28OTRE7U",
        "colab_type": "text"
      },
      "source": [
        "---"
      ]
    },
    {
      "cell_type": "markdown",
      "metadata": {
        "id": "pkFFTkviRMWe",
        "colab_type": "text"
      },
      "source": [
        "## Computation on NumPy Arrays: Universal Functions"
      ]
    },
    {
      "cell_type": "code",
      "metadata": {
        "id": "exlnRQLERgLB",
        "colab_type": "code",
        "colab": {}
      },
      "source": [
        "def compute_reciprocals(values):\n",
        "    output = np.empty(len(values))\n",
        "    for i in range(len(values)):\n",
        "        output[i] = 1.0 / values[i]\n",
        "    return output"
      ],
      "execution_count": 0,
      "outputs": []
    },
    {
      "cell_type": "code",
      "metadata": {
        "id": "C9BArUp6SYUh",
        "colab_type": "code",
        "colab": {
          "base_uri": "https://localhost:8080/",
          "height": 34
        },
        "outputId": "ce1c9c8f-7cec-4a4d-cded-8c7e537d83fd"
      },
      "source": [
        "values = np.random.randint(1, 10, 5)\n",
        "compute_reciprocals(values)"
      ],
      "execution_count": 79,
      "outputs": [
        {
          "output_type": "execute_result",
          "data": {
            "text/plain": [
              "array([0.33333333, 0.125     , 0.16666667, 1.        , 0.2       ])"
            ]
          },
          "metadata": {
            "tags": []
          },
          "execution_count": 79
        }
      ]
    },
    {
      "cell_type": "code",
      "metadata": {
        "id": "Kxdwj22aSdFZ",
        "colab_type": "code",
        "colab": {
          "base_uri": "https://localhost:8080/",
          "height": 34
        },
        "outputId": "e8b5b5c6-2d28-4ab1-82c2-7b39bf400c48"
      },
      "source": [
        "big_array = np.random.randint(1, 100, 1000000)\n",
        "%timeit compute_reciprocals(big_array)"
      ],
      "execution_count": 80,
      "outputs": [
        {
          "output_type": "stream",
          "text": [
            "1 loop, best of 3: 2.23 s per loop\n"
          ],
          "name": "stdout"
        }
      ]
    },
    {
      "cell_type": "markdown",
      "metadata": {
        "id": "hO_JndrhSlN7",
        "colab_type": "text"
      },
      "source": [
        "### Introducing UFuncs"
      ]
    },
    {
      "cell_type": "code",
      "metadata": {
        "id": "g-I2UfsXStCc",
        "colab_type": "code",
        "colab": {
          "base_uri": "https://localhost:8080/",
          "height": 51
        },
        "outputId": "83dbdd7d-3455-4830-c2bd-5a593e5cc26b"
      },
      "source": [
        "print(compute_reciprocals(values))\n",
        "print(1 / values)"
      ],
      "execution_count": 81,
      "outputs": [
        {
          "output_type": "stream",
          "text": [
            "[0.33333333 0.125      0.16666667 1.         0.2       ]\n",
            "[0.33333333 0.125      0.16666667 1.         0.2       ]\n"
          ],
          "name": "stdout"
        }
      ]
    },
    {
      "cell_type": "code",
      "metadata": {
        "id": "vHqSFOVfS5cx",
        "colab_type": "code",
        "colab": {
          "base_uri": "https://localhost:8080/",
          "height": 34
        },
        "outputId": "a6c30f30-f3f6-4216-f5d0-0c88b45350a9"
      },
      "source": [
        "%timeit (1.0 / big_array)"
      ],
      "execution_count": 82,
      "outputs": [
        {
          "output_type": "stream",
          "text": [
            "100 loops, best of 3: 2.56 ms per loop\n"
          ],
          "name": "stdout"
        }
      ]
    },
    {
      "cell_type": "code",
      "metadata": {
        "id": "7Dg0ocYWTBDD",
        "colab_type": "code",
        "colab": {
          "base_uri": "https://localhost:8080/",
          "height": 34
        },
        "outputId": "7b54bd48-d0df-4ac4-f036-acaa3f2ca4e8"
      },
      "source": [
        "np.arange(5) / np.arange(1, 6)"
      ],
      "execution_count": 83,
      "outputs": [
        {
          "output_type": "execute_result",
          "data": {
            "text/plain": [
              "array([0.        , 0.5       , 0.66666667, 0.75      , 0.8       ])"
            ]
          },
          "metadata": {
            "tags": []
          },
          "execution_count": 83
        }
      ]
    },
    {
      "cell_type": "code",
      "metadata": {
        "id": "bh7L-kpjTK2K",
        "colab_type": "code",
        "colab": {
          "base_uri": "https://localhost:8080/",
          "height": 68
        },
        "outputId": "dbbab11f-4751-45a3-fa6c-4e9feaffc7a5"
      },
      "source": [
        "x = np.arange(9).reshape(3, 3)\n",
        "print(2 ** x)"
      ],
      "execution_count": 85,
      "outputs": [
        {
          "output_type": "stream",
          "text": [
            "[[  1   2   4]\n",
            " [  8  16  32]\n",
            " [ 64 128 256]]\n"
          ],
          "name": "stdout"
        }
      ]
    },
    {
      "cell_type": "markdown",
      "metadata": {
        "id": "MadY3HNkTRia",
        "colab_type": "text"
      },
      "source": [
        "### Exploring NumPy's UFuncs"
      ]
    },
    {
      "cell_type": "code",
      "metadata": {
        "id": "NL-r5Nu3TXFS",
        "colab_type": "code",
        "colab": {
          "base_uri": "https://localhost:8080/",
          "height": 170
        },
        "outputId": "c81340f7-b37a-45c4-917d-7fb025123517"
      },
      "source": [
        "print(x + 2)\n",
        "print(x // 2)\n",
        "print(np.add(x, 2))"
      ],
      "execution_count": 86,
      "outputs": [
        {
          "output_type": "stream",
          "text": [
            "[[ 2  3  4]\n",
            " [ 5  6  7]\n",
            " [ 8  9 10]]\n",
            "[[0 0 1]\n",
            " [1 2 2]\n",
            " [3 3 4]]\n",
            "[[ 2  3  4]\n",
            " [ 5  6  7]\n",
            " [ 8  9 10]]\n"
          ],
          "name": "stdout"
        }
      ]
    },
    {
      "cell_type": "code",
      "metadata": {
        "id": "4whu9vNFTzNm",
        "colab_type": "code",
        "colab": {
          "base_uri": "https://localhost:8080/",
          "height": 34
        },
        "outputId": "3b02fc63-a765-4907-e28e-0a76f8898f0d"
      },
      "source": [
        "x = np.array([-2, -1, 0, 1, 2])\n",
        "x"
      ],
      "execution_count": 87,
      "outputs": [
        {
          "output_type": "execute_result",
          "data": {
            "text/plain": [
              "array([-2, -1,  0,  1,  2])"
            ]
          },
          "metadata": {
            "tags": []
          },
          "execution_count": 87
        }
      ]
    },
    {
      "cell_type": "code",
      "metadata": {
        "id": "2y24IualT9Jy",
        "colab_type": "code",
        "colab": {
          "base_uri": "https://localhost:8080/",
          "height": 34
        },
        "outputId": "5cd1dd46-a008-46ef-90ef-0af7c683e829"
      },
      "source": [
        "abs(x)"
      ],
      "execution_count": 88,
      "outputs": [
        {
          "output_type": "execute_result",
          "data": {
            "text/plain": [
              "array([2, 1, 0, 1, 2])"
            ]
          },
          "metadata": {
            "tags": []
          },
          "execution_count": 88
        }
      ]
    },
    {
      "cell_type": "code",
      "metadata": {
        "id": "7cRcGAijUB91",
        "colab_type": "code",
        "colab": {
          "base_uri": "https://localhost:8080/",
          "height": 34
        },
        "outputId": "91357885-0188-4c68-f1f0-90455e01c2d2"
      },
      "source": [
        "np.absolute(x)"
      ],
      "execution_count": 89,
      "outputs": [
        {
          "output_type": "execute_result",
          "data": {
            "text/plain": [
              "array([2, 1, 0, 1, 2])"
            ]
          },
          "metadata": {
            "tags": []
          },
          "execution_count": 89
        }
      ]
    },
    {
      "cell_type": "code",
      "metadata": {
        "id": "VCNTKa73UEfX",
        "colab_type": "code",
        "colab": {
          "base_uri": "https://localhost:8080/",
          "height": 34
        },
        "outputId": "bfafcffb-c38c-455d-a30a-528ad79bb16a"
      },
      "source": [
        "np.abs(x)"
      ],
      "execution_count": 90,
      "outputs": [
        {
          "output_type": "execute_result",
          "data": {
            "text/plain": [
              "array([2, 1, 0, 1, 2])"
            ]
          },
          "metadata": {
            "tags": []
          },
          "execution_count": 90
        }
      ]
    },
    {
      "cell_type": "code",
      "metadata": {
        "id": "sDHDpzgvUFvz",
        "colab_type": "code",
        "colab": {}
      },
      "source": [
        "cmplx = 3 + 6j"
      ],
      "execution_count": 0,
      "outputs": []
    },
    {
      "cell_type": "code",
      "metadata": {
        "id": "9DCYcTbiUNlY",
        "colab_type": "code",
        "colab": {
          "base_uri": "https://localhost:8080/",
          "height": 34
        },
        "outputId": "95b74da4-7c75-4079-bb68-a6fedcdb6a95"
      },
      "source": [
        "type(cmplx)"
      ],
      "execution_count": 93,
      "outputs": [
        {
          "output_type": "execute_result",
          "data": {
            "text/plain": [
              "complex"
            ]
          },
          "metadata": {
            "tags": []
          },
          "execution_count": 93
        }
      ]
    },
    {
      "cell_type": "code",
      "metadata": {
        "id": "8_oFMqWgUOmX",
        "colab_type": "code",
        "colab": {
          "base_uri": "https://localhost:8080/",
          "height": 34
        },
        "outputId": "2342e7e2-93f4-43c4-8ba5-64c4cb99d8fc"
      },
      "source": [
        "x = np.array([3 - 4j, 4 - 3j, 2 + 0j, 0 + 1j])\n",
        "np.abs(x)"
      ],
      "execution_count": 94,
      "outputs": [
        {
          "output_type": "execute_result",
          "data": {
            "text/plain": [
              "array([5., 5., 2., 1.])"
            ]
          },
          "metadata": {
            "tags": []
          },
          "execution_count": 94
        }
      ]
    },
    {
      "cell_type": "code",
      "metadata": {
        "id": "FTtm5ZMYUTHp",
        "colab_type": "code",
        "colab": {
          "base_uri": "https://localhost:8080/",
          "height": 306
        },
        "outputId": "2d5dfd9b-0b07-43df-ca6e-41bfb9adb33a"
      },
      "source": [
        "interval = np.linspace(0, np.pi * 2, 100)\n",
        "print(interval)"
      ],
      "execution_count": 95,
      "outputs": [
        {
          "output_type": "stream",
          "text": [
            "[0.         0.06346652 0.12693304 0.19039955 0.25386607 0.31733259\n",
            " 0.38079911 0.44426563 0.50773215 0.57119866 0.63466518 0.6981317\n",
            " 0.76159822 0.82506474 0.88853126 0.95199777 1.01546429 1.07893081\n",
            " 1.14239733 1.20586385 1.26933037 1.33279688 1.3962634  1.45972992\n",
            " 1.52319644 1.58666296 1.65012947 1.71359599 1.77706251 1.84052903\n",
            " 1.90399555 1.96746207 2.03092858 2.0943951  2.15786162 2.22132814\n",
            " 2.28479466 2.34826118 2.41172769 2.47519421 2.53866073 2.60212725\n",
            " 2.66559377 2.72906028 2.7925268  2.85599332 2.91945984 2.98292636\n",
            " 3.04639288 3.10985939 3.17332591 3.23679243 3.30025895 3.36372547\n",
            " 3.42719199 3.4906585  3.55412502 3.61759154 3.68105806 3.74452458\n",
            " 3.8079911  3.87145761 3.93492413 3.99839065 4.06185717 4.12532369\n",
            " 4.1887902  4.25225672 4.31572324 4.37918976 4.44265628 4.5061228\n",
            " 4.56958931 4.63305583 4.69652235 4.75998887 4.82345539 4.88692191\n",
            " 4.95038842 5.01385494 5.07732146 5.14078798 5.2042545  5.26772102\n",
            " 5.33118753 5.39465405 5.45812057 5.52158709 5.58505361 5.64852012\n",
            " 5.71198664 5.77545316 5.83891968 5.9023862  5.96585272 6.02931923\n",
            " 6.09278575 6.15625227 6.21971879 6.28318531]\n"
          ],
          "name": "stdout"
        }
      ]
    },
    {
      "cell_type": "code",
      "metadata": {
        "id": "bDkgVFrbUhPV",
        "colab_type": "code",
        "colab": {
          "base_uri": "https://localhost:8080/",
          "height": 1000
        },
        "outputId": "8399a510-fd7e-4637-a471-9e48c25857de"
      },
      "source": [
        "print(np.sin(interval))\n",
        "print(np.cos(interval))\n",
        "print(np.tan(interval))"
      ],
      "execution_count": 96,
      "outputs": [
        {
          "output_type": "stream",
          "text": [
            "[ 0.00000000e+00  6.34239197e-02  1.26592454e-01  1.89251244e-01\n",
            "  2.51147987e-01  3.12033446e-01  3.71662456e-01  4.29794912e-01\n",
            "  4.86196736e-01  5.40640817e-01  5.92907929e-01  6.42787610e-01\n",
            "  6.90079011e-01  7.34591709e-01  7.76146464e-01  8.14575952e-01\n",
            "  8.49725430e-01  8.81453363e-01  9.09631995e-01  9.34147860e-01\n",
            "  9.54902241e-01  9.71811568e-01  9.84807753e-01  9.93838464e-01\n",
            "  9.98867339e-01  9.99874128e-01  9.96854776e-01  9.89821442e-01\n",
            "  9.78802446e-01  9.63842159e-01  9.45000819e-01  9.22354294e-01\n",
            "  8.95993774e-01  8.66025404e-01  8.32569855e-01  7.95761841e-01\n",
            "  7.55749574e-01  7.12694171e-01  6.66769001e-01  6.18158986e-01\n",
            "  5.67059864e-01  5.13677392e-01  4.58226522e-01  4.00930535e-01\n",
            "  3.42020143e-01  2.81732557e-01  2.20310533e-01  1.58001396e-01\n",
            "  9.50560433e-02  3.17279335e-02 -3.17279335e-02 -9.50560433e-02\n",
            " -1.58001396e-01 -2.20310533e-01 -2.81732557e-01 -3.42020143e-01\n",
            " -4.00930535e-01 -4.58226522e-01 -5.13677392e-01 -5.67059864e-01\n",
            " -6.18158986e-01 -6.66769001e-01 -7.12694171e-01 -7.55749574e-01\n",
            " -7.95761841e-01 -8.32569855e-01 -8.66025404e-01 -8.95993774e-01\n",
            " -9.22354294e-01 -9.45000819e-01 -9.63842159e-01 -9.78802446e-01\n",
            " -9.89821442e-01 -9.96854776e-01 -9.99874128e-01 -9.98867339e-01\n",
            " -9.93838464e-01 -9.84807753e-01 -9.71811568e-01 -9.54902241e-01\n",
            " -9.34147860e-01 -9.09631995e-01 -8.81453363e-01 -8.49725430e-01\n",
            " -8.14575952e-01 -7.76146464e-01 -7.34591709e-01 -6.90079011e-01\n",
            " -6.42787610e-01 -5.92907929e-01 -5.40640817e-01 -4.86196736e-01\n",
            " -4.29794912e-01 -3.71662456e-01 -3.12033446e-01 -2.51147987e-01\n",
            " -1.89251244e-01 -1.26592454e-01 -6.34239197e-02 -2.44929360e-16]\n",
            "[ 1.          0.99798668  0.99195481  0.9819287   0.9679487   0.95007112\n",
            "  0.92836793  0.90292654  0.87384938  0.84125353  0.80527026  0.76604444\n",
            "  0.72373404  0.67850941  0.63055267  0.58005691  0.52722547  0.47227107\n",
            "  0.41541501  0.35688622  0.29692038  0.23575894  0.17364818  0.1108382\n",
            "  0.04758192 -0.01586596 -0.07924996 -0.14231484 -0.20480667 -0.26647381\n",
            " -0.32706796 -0.38634513 -0.44406661 -0.5        -0.55392006 -0.60560969\n",
            " -0.65486073 -0.70147489 -0.74526445 -0.78605309 -0.82367658 -0.85798341\n",
            " -0.88883545 -0.91610846 -0.93969262 -0.95949297 -0.97542979 -0.98743889\n",
            " -0.99547192 -0.99949654 -0.99949654 -0.99547192 -0.98743889 -0.97542979\n",
            " -0.95949297 -0.93969262 -0.91610846 -0.88883545 -0.85798341 -0.82367658\n",
            " -0.78605309 -0.74526445 -0.70147489 -0.65486073 -0.60560969 -0.55392006\n",
            " -0.5        -0.44406661 -0.38634513 -0.32706796 -0.26647381 -0.20480667\n",
            " -0.14231484 -0.07924996 -0.01586596  0.04758192  0.1108382   0.17364818\n",
            "  0.23575894  0.29692038  0.35688622  0.41541501  0.47227107  0.52722547\n",
            "  0.58005691  0.63055267  0.67850941  0.72373404  0.76604444  0.80527026\n",
            "  0.84125353  0.87384938  0.90292654  0.92836793  0.95007112  0.9679487\n",
            "  0.9819287   0.99195481  0.99798668  1.        ]\n",
            "[ 0.00000000e+00  6.35518701e-02  1.27619174e-01  1.92734202e-01\n",
            "  2.59464150e-01  3.28431672e-01  4.00339609e-01  4.76002082e-01\n",
            "  5.56385058e-01  6.42660977e-01  7.36284401e-01  8.39099631e-01\n",
            "  9.53498074e-01  1.08265515e+00  1.23089871e+00  1.40430351e+00\n",
            "  1.61169269e+00  1.86641404e+00  2.18969456e+00  2.61749489e+00\n",
            "  3.21602127e+00  4.12205614e+00  5.67128182e+00  8.96656988e+00\n",
            "  2.09925835e+01 -6.30200685e+01 -1.25786160e+01 -6.95515277e+00\n",
            " -4.77915322e+00 -3.61702392e+00 -2.88931025e+00 -2.38738432e+00\n",
            " -2.01770128e+00 -1.73205081e+00 -1.50305055e+00 -1.31398466e+00\n",
            " -1.15406152e+00 -1.01599385e+00 -8.94674368e-01 -7.86408692e-01\n",
            " -6.88449662e-01 -5.98703173e-01 -5.15535831e-01 -4.37645272e-01\n",
            " -3.63970234e-01 -2.93626493e-01 -2.25859960e-01 -1.60011316e-01\n",
            " -9.54884223e-02 -3.17439152e-02  3.17439152e-02  9.54884223e-02\n",
            "  1.60011316e-01  2.25859960e-01  2.93626493e-01  3.63970234e-01\n",
            "  4.37645272e-01  5.15535831e-01  5.98703173e-01  6.88449662e-01\n",
            "  7.86408692e-01  8.94674368e-01  1.01599385e+00  1.15406152e+00\n",
            "  1.31398466e+00  1.50305055e+00  1.73205081e+00  2.01770128e+00\n",
            "  2.38738432e+00  2.88931025e+00  3.61702392e+00  4.77915322e+00\n",
            "  6.95515277e+00  1.25786160e+01  6.30200685e+01 -2.09925835e+01\n",
            " -8.96656988e+00 -5.67128182e+00 -4.12205614e+00 -3.21602127e+00\n",
            " -2.61749489e+00 -2.18969456e+00 -1.86641404e+00 -1.61169269e+00\n",
            " -1.40430351e+00 -1.23089871e+00 -1.08265515e+00 -9.53498074e-01\n",
            " -8.39099631e-01 -7.36284401e-01 -6.42660977e-01 -5.56385058e-01\n",
            " -4.76002082e-01 -4.00339609e-01 -3.28431672e-01 -2.59464150e-01\n",
            " -1.92734202e-01 -1.27619174e-01 -6.35518701e-02 -2.44929360e-16]\n"
          ],
          "name": "stdout"
        }
      ]
    },
    {
      "cell_type": "markdown",
      "metadata": {
        "id": "H9Iq4PldUnm4",
        "colab_type": "text"
      },
      "source": [
        "#### Specialized ufuncs"
      ]
    },
    {
      "cell_type": "code",
      "metadata": {
        "id": "yMiKrYGlU0wY",
        "colab_type": "code",
        "colab": {}
      },
      "source": [
        "from scipy import special"
      ],
      "execution_count": 0,
      "outputs": []
    },
    {
      "cell_type": "code",
      "metadata": {
        "id": "EanQ9mgrU_hq",
        "colab_type": "code",
        "colab": {
          "base_uri": "https://localhost:8080/",
          "height": 34
        },
        "outputId": "9c1253e3-2fdc-4851-a188-c3431bf2dbaf"
      },
      "source": [
        "x = [1, 5, 10]\n",
        "print(\"gamma(x)\", special.gamma(x))"
      ],
      "execution_count": 98,
      "outputs": [
        {
          "output_type": "stream",
          "text": [
            "gamma(x) [1.0000e+00 2.4000e+01 3.6288e+05]\n"
          ],
          "name": "stdout"
        }
      ]
    },
    {
      "cell_type": "markdown",
      "metadata": {
        "id": "JY1ikv9iVHSy",
        "colab_type": "text"
      },
      "source": [
        "### Advanced UFuncs Features"
      ]
    },
    {
      "cell_type": "code",
      "metadata": {
        "id": "uiSsxGq4VN8Q",
        "colab_type": "code",
        "colab": {
          "base_uri": "https://localhost:8080/",
          "height": 34
        },
        "outputId": "67f68f90-b69f-471e-9e2a-6db7bd04407d"
      },
      "source": [
        "x = np.arange(5)\n",
        "y = np.empty(5)\n",
        "np.multiply(x, 10, out=y)"
      ],
      "execution_count": 102,
      "outputs": [
        {
          "output_type": "execute_result",
          "data": {
            "text/plain": [
              "array([ 0., 10., 20., 30., 40.])"
            ]
          },
          "metadata": {
            "tags": []
          },
          "execution_count": 102
        }
      ]
    },
    {
      "cell_type": "code",
      "metadata": {
        "id": "gkvqi4iIuGo4",
        "colab_type": "code",
        "colab": {
          "base_uri": "https://localhost:8080/",
          "height": 34
        },
        "outputId": "34a17d02-d266-4f11-e204-721dc365d7a0"
      },
      "source": [
        "y = np.zeros(10)\n",
        "np.power(2, x, out=y[::2])\n",
        "print(y)"
      ],
      "execution_count": 104,
      "outputs": [
        {
          "output_type": "stream",
          "text": [
            "[ 1.  0.  2.  0.  4.  0.  8.  0. 16.  0.]\n"
          ],
          "name": "stdout"
        }
      ]
    },
    {
      "cell_type": "code",
      "metadata": {
        "id": "RfgvGRpcuZH0",
        "colab_type": "code",
        "colab": {}
      },
      "source": [
        "x = np.arange(1, 6)"
      ],
      "execution_count": 0,
      "outputs": []
    },
    {
      "cell_type": "code",
      "metadata": {
        "id": "bL23VElUvMFD",
        "colab_type": "code",
        "colab": {
          "base_uri": "https://localhost:8080/",
          "height": 34
        },
        "outputId": "2f67cd03-c338-4cc7-9696-57a262c9bdf4"
      },
      "source": [
        "np.add.reduce(x)"
      ],
      "execution_count": 106,
      "outputs": [
        {
          "output_type": "execute_result",
          "data": {
            "text/plain": [
              "15"
            ]
          },
          "metadata": {
            "tags": []
          },
          "execution_count": 106
        }
      ]
    },
    {
      "cell_type": "code",
      "metadata": {
        "id": "vL9LV7xBvNFS",
        "colab_type": "code",
        "colab": {
          "base_uri": "https://localhost:8080/",
          "height": 34
        },
        "outputId": "3a35a7ba-dc11-4112-d588-b7a8a464d2b0"
      },
      "source": [
        "np.multiply.reduce(x)"
      ],
      "execution_count": 108,
      "outputs": [
        {
          "output_type": "execute_result",
          "data": {
            "text/plain": [
              "120"
            ]
          },
          "metadata": {
            "tags": []
          },
          "execution_count": 108
        }
      ]
    },
    {
      "cell_type": "code",
      "metadata": {
        "id": "QOrzuxrvvOl5",
        "colab_type": "code",
        "colab": {
          "base_uri": "https://localhost:8080/",
          "height": 34
        },
        "outputId": "a26a894e-ff88-4d94-c63b-54cd579f7c57"
      },
      "source": [
        "np.add.accumulate(x)"
      ],
      "execution_count": 109,
      "outputs": [
        {
          "output_type": "execute_result",
          "data": {
            "text/plain": [
              "array([ 1,  3,  6, 10, 15])"
            ]
          },
          "metadata": {
            "tags": []
          },
          "execution_count": 109
        }
      ]
    },
    {
      "cell_type": "code",
      "metadata": {
        "id": "He-FDB_PvUm1",
        "colab_type": "code",
        "colab": {
          "base_uri": "https://localhost:8080/",
          "height": 102
        },
        "outputId": "e80958de-8321-4498-ee9d-82a31d787a4a"
      },
      "source": [
        "np.multiply.outer(x, x)"
      ],
      "execution_count": 111,
      "outputs": [
        {
          "output_type": "execute_result",
          "data": {
            "text/plain": [
              "array([[ 1,  2,  3,  4,  5],\n",
              "       [ 2,  4,  6,  8, 10],\n",
              "       [ 3,  6,  9, 12, 15],\n",
              "       [ 4,  8, 12, 16, 20],\n",
              "       [ 5, 10, 15, 20, 25]])"
            ]
          },
          "metadata": {
            "tags": []
          },
          "execution_count": 111
        }
      ]
    },
    {
      "cell_type": "markdown",
      "metadata": {
        "id": "Z1teDk6ovrZ0",
        "colab_type": "text"
      },
      "source": [
        "---"
      ]
    },
    {
      "cell_type": "markdown",
      "metadata": {
        "id": "d0ajR1QJvx1P",
        "colab_type": "text"
      },
      "source": [
        "## Aggregations: Min, Max, and Everything in Between"
      ]
    },
    {
      "cell_type": "code",
      "metadata": {
        "id": "nkyyzeUpv2Mj",
        "colab_type": "code",
        "colab": {}
      },
      "source": [
        "L = np.random.random(100)"
      ],
      "execution_count": 0,
      "outputs": []
    },
    {
      "cell_type": "code",
      "metadata": {
        "id": "2VfuFbPswov2",
        "colab_type": "code",
        "colab": {
          "base_uri": "https://localhost:8080/",
          "height": 34
        },
        "outputId": "e6bcd018-9567-4340-ced7-d54f62f0b7c4"
      },
      "source": [
        "sum(L)"
      ],
      "execution_count": 113,
      "outputs": [
        {
          "output_type": "execute_result",
          "data": {
            "text/plain": [
              "49.885935284588946"
            ]
          },
          "metadata": {
            "tags": []
          },
          "execution_count": 113
        }
      ]
    },
    {
      "cell_type": "code",
      "metadata": {
        "id": "fSWObEprwrLZ",
        "colab_type": "code",
        "colab": {
          "base_uri": "https://localhost:8080/",
          "height": 34
        },
        "outputId": "ea8bbc84-6a67-40b6-a187-968bbe902280"
      },
      "source": [
        "np.sum(L)"
      ],
      "execution_count": 114,
      "outputs": [
        {
          "output_type": "execute_result",
          "data": {
            "text/plain": [
              "49.88593528458893"
            ]
          },
          "metadata": {
            "tags": []
          },
          "execution_count": 114
        }
      ]
    },
    {
      "cell_type": "code",
      "metadata": {
        "id": "yUEZeKAVwsIR",
        "colab_type": "code",
        "colab": {
          "base_uri": "https://localhost:8080/",
          "height": 51
        },
        "outputId": "3c81b832-8801-4a71-e6f4-64c2dbbeb7ea"
      },
      "source": [
        "big_array = np.random.rand(1000000)\n",
        "%timeit sum(big_array)\n",
        "%timeit np.sum(big_array)"
      ],
      "execution_count": 115,
      "outputs": [
        {
          "output_type": "stream",
          "text": [
            "10 loops, best of 3: 160 ms per loop\n",
            "1000 loops, best of 3: 371 µs per loop\n"
          ],
          "name": "stdout"
        }
      ]
    },
    {
      "cell_type": "code",
      "metadata": {
        "id": "nd9mJy_Nw0o_",
        "colab_type": "code",
        "colab": {
          "base_uri": "https://localhost:8080/",
          "height": 34
        },
        "outputId": "dcaa3a24-4ebe-4e50-c12c-1d18889e7f28"
      },
      "source": [
        "min(big_array), max(big_array)"
      ],
      "execution_count": 116,
      "outputs": [
        {
          "output_type": "execute_result",
          "data": {
            "text/plain": [
              "(2.6740601668517883e-06, 0.9999989462352976)"
            ]
          },
          "metadata": {
            "tags": []
          },
          "execution_count": 116
        }
      ]
    },
    {
      "cell_type": "code",
      "metadata": {
        "id": "ni3OF_YWxl4R",
        "colab_type": "code",
        "colab": {
          "base_uri": "https://localhost:8080/",
          "height": 34
        },
        "outputId": "27f27a5f-22df-4115-ad29-ddc8108efa7e"
      },
      "source": [
        "np.min(big_array), np.max(big_array)"
      ],
      "execution_count": 117,
      "outputs": [
        {
          "output_type": "execute_result",
          "data": {
            "text/plain": [
              "(2.6740601668517883e-06, 0.9999989462352976)"
            ]
          },
          "metadata": {
            "tags": []
          },
          "execution_count": 117
        }
      ]
    },
    {
      "cell_type": "code",
      "metadata": {
        "id": "oWHmgZPuxpsv",
        "colab_type": "code",
        "colab": {
          "base_uri": "https://localhost:8080/",
          "height": 34
        },
        "outputId": "49f055c8-0d7b-4b4d-e98e-b3e738af41cd"
      },
      "source": [
        "print(big_array.min(), big_array.max(), big_array.sum())"
      ],
      "execution_count": 118,
      "outputs": [
        {
          "output_type": "stream",
          "text": [
            "2.6740601668517883e-06 0.9999989462352976 500183.2186114598\n"
          ],
          "name": "stdout"
        }
      ]
    },
    {
      "cell_type": "markdown",
      "metadata": {
        "id": "V24yNzCaxwB-",
        "colab_type": "text"
      },
      "source": [
        "#### Multidimensional aggregates"
      ]
    },
    {
      "cell_type": "code",
      "metadata": {
        "id": "9bouV4n3x1-X",
        "colab_type": "code",
        "colab": {
          "base_uri": "https://localhost:8080/",
          "height": 85
        },
        "outputId": "b3e46851-e519-4295-a959-fc18be5df62f"
      },
      "source": [
        "M = np.random.random((4, 5))\n",
        "M"
      ],
      "execution_count": 119,
      "outputs": [
        {
          "output_type": "execute_result",
          "data": {
            "text/plain": [
              "array([[0.41832993, 0.14149236, 0.9343922 , 0.08818229, 0.31650684],\n",
              "       [0.97614732, 0.13142194, 0.64288934, 0.50307328, 0.60132391],\n",
              "       [0.51801951, 0.94289088, 0.53718536, 0.25810376, 0.92314435],\n",
              "       [0.15990674, 0.86642142, 0.13838714, 0.51292705, 0.42604425]])"
            ]
          },
          "metadata": {
            "tags": []
          },
          "execution_count": 119
        }
      ]
    },
    {
      "cell_type": "code",
      "metadata": {
        "id": "4uLtSX1Fx5-x",
        "colab_type": "code",
        "colab": {
          "base_uri": "https://localhost:8080/",
          "height": 34
        },
        "outputId": "c13daf45-8f62-4bcf-8975-a1703b3df1b5"
      },
      "source": [
        "M.sum()     # Sum all"
      ],
      "execution_count": 120,
      "outputs": [
        {
          "output_type": "execute_result",
          "data": {
            "text/plain": [
              "10.036789858274226"
            ]
          },
          "metadata": {
            "tags": []
          },
          "execution_count": 120
        }
      ]
    },
    {
      "cell_type": "code",
      "metadata": {
        "id": "MJQu0owqyAc4",
        "colab_type": "code",
        "colab": {
          "base_uri": "https://localhost:8080/",
          "height": 34
        },
        "outputId": "bdc77b2a-3d77-48bf-f38a-2b765cb24a2f"
      },
      "source": [
        "M.min(axis=0)       # along first axis (column)"
      ],
      "execution_count": 121,
      "outputs": [
        {
          "output_type": "execute_result",
          "data": {
            "text/plain": [
              "array([0.15990674, 0.13142194, 0.13838714, 0.08818229, 0.31650684])"
            ]
          },
          "metadata": {
            "tags": []
          },
          "execution_count": 121
        }
      ]
    },
    {
      "cell_type": "markdown",
      "metadata": {
        "id": "nx7zcsUvy5pP",
        "colab_type": "text"
      },
      "source": [
        "---"
      ]
    },
    {
      "cell_type": "markdown",
      "metadata": {
        "id": "N21sl6wHzFxB",
        "colab_type": "text"
      },
      "source": [
        "## Computation on Arrays: Broadcasting"
      ]
    },
    {
      "cell_type": "code",
      "metadata": {
        "id": "L2-uI5MRzJL9",
        "colab_type": "code",
        "colab": {
          "base_uri": "https://localhost:8080/",
          "height": 34
        },
        "outputId": "f4aa56bd-42b7-4ed7-eceb-5d3cb57bed57"
      },
      "source": [
        "a = np.array([1, 2, 3])\n",
        "print(a + 5)"
      ],
      "execution_count": 123,
      "outputs": [
        {
          "output_type": "stream",
          "text": [
            "[6 7 8]\n"
          ],
          "name": "stdout"
        }
      ]
    },
    {
      "cell_type": "code",
      "metadata": {
        "id": "dH--YbiQz1yG",
        "colab_type": "code",
        "colab": {
          "base_uri": "https://localhost:8080/",
          "height": 68
        },
        "outputId": "cb43989b-8765-4eb9-a8bb-444105d48372"
      },
      "source": [
        "M = np.ones((3, 3))\n",
        "M"
      ],
      "execution_count": 126,
      "outputs": [
        {
          "output_type": "execute_result",
          "data": {
            "text/plain": [
              "array([[1., 1., 1.],\n",
              "       [1., 1., 1.],\n",
              "       [1., 1., 1.]])"
            ]
          },
          "metadata": {
            "tags": []
          },
          "execution_count": 126
        }
      ]
    },
    {
      "cell_type": "code",
      "metadata": {
        "id": "OmKbFbS2z_dI",
        "colab_type": "code",
        "colab": {
          "base_uri": "https://localhost:8080/",
          "height": 68
        },
        "outputId": "3ac564dd-e5b5-4a6e-e3cd-62eba2732a4c"
      },
      "source": [
        "M + a"
      ],
      "execution_count": 127,
      "outputs": [
        {
          "output_type": "execute_result",
          "data": {
            "text/plain": [
              "array([[2., 3., 4.],\n",
              "       [2., 3., 4.],\n",
              "       [2., 3., 4.]])"
            ]
          },
          "metadata": {
            "tags": []
          },
          "execution_count": 127
        }
      ]
    },
    {
      "cell_type": "code",
      "metadata": {
        "id": "wrg1jI4A0Igx",
        "colab_type": "code",
        "colab": {
          "base_uri": "https://localhost:8080/",
          "height": 85
        },
        "outputId": "4f350b80-b7e7-41d4-a70c-ee82d1aeff7a"
      },
      "source": [
        "a = np.arange(3)\n",
        "b = np.arange(3)[:, np.newaxis]\n",
        "print(a)\n",
        "print(b)"
      ],
      "execution_count": 128,
      "outputs": [
        {
          "output_type": "stream",
          "text": [
            "[0 1 2]\n",
            "[[0]\n",
            " [1]\n",
            " [2]]\n"
          ],
          "name": "stdout"
        }
      ]
    },
    {
      "cell_type": "code",
      "metadata": {
        "id": "6V9c9Usb0RJS",
        "colab_type": "code",
        "colab": {
          "base_uri": "https://localhost:8080/",
          "height": 68
        },
        "outputId": "bee952f1-0483-4e45-f91d-eafe2012d658"
      },
      "source": [
        "a + b"
      ],
      "execution_count": 129,
      "outputs": [
        {
          "output_type": "execute_result",
          "data": {
            "text/plain": [
              "array([[0, 1, 2],\n",
              "       [1, 2, 3],\n",
              "       [2, 3, 4]])"
            ]
          },
          "metadata": {
            "tags": []
          },
          "execution_count": 129
        }
      ]
    },
    {
      "cell_type": "markdown",
      "metadata": {
        "id": "msQNodyF0Sor",
        "colab_type": "text"
      },
      "source": [
        "### Rules of Broadcasting"
      ]
    },
    {
      "cell_type": "code",
      "metadata": {
        "id": "4ElKgeJx0d_-",
        "colab_type": "code",
        "colab": {}
      },
      "source": [
        "M = np.ones((2, 3))\n",
        "a = np.arange(3)"
      ],
      "execution_count": 0,
      "outputs": []
    },
    {
      "cell_type": "code",
      "metadata": {
        "id": "cHPWwW-LB2pd",
        "colab_type": "code",
        "colab": {
          "base_uri": "https://localhost:8080/",
          "height": 68
        },
        "outputId": "5a7b701c-4edb-49f4-8302-01bd340b5062"
      },
      "source": [
        "print(M)\n",
        "print(a)"
      ],
      "execution_count": 131,
      "outputs": [
        {
          "output_type": "stream",
          "text": [
            "[[1. 1. 1.]\n",
            " [1. 1. 1.]]\n",
            "[0 1 2]\n"
          ],
          "name": "stdout"
        }
      ]
    },
    {
      "cell_type": "code",
      "metadata": {
        "id": "W0hhwnYcB4C9",
        "colab_type": "code",
        "colab": {
          "base_uri": "https://localhost:8080/",
          "height": 51
        },
        "outputId": "b6322c0b-7d13-4c2f-e39f-e723a92694d1"
      },
      "source": [
        "M + a"
      ],
      "execution_count": 132,
      "outputs": [
        {
          "output_type": "execute_result",
          "data": {
            "text/plain": [
              "array([[1., 2., 3.],\n",
              "       [1., 2., 3.]])"
            ]
          },
          "metadata": {
            "tags": []
          },
          "execution_count": 132
        }
      ]
    },
    {
      "cell_type": "code",
      "metadata": {
        "id": "Di6VISWdCDHG",
        "colab_type": "code",
        "colab": {
          "base_uri": "https://localhost:8080/",
          "height": 85
        },
        "outputId": "b4a5a55c-c590-4cfd-f441-9920aa24d2dd"
      },
      "source": [
        "a = np.arange(3).reshape(3, 1)\n",
        "b = np.arange(3)\n",
        "print(a)\n",
        "print(b)"
      ],
      "execution_count": 133,
      "outputs": [
        {
          "output_type": "stream",
          "text": [
            "[[0]\n",
            " [1]\n",
            " [2]]\n",
            "[0 1 2]\n"
          ],
          "name": "stdout"
        }
      ]
    },
    {
      "cell_type": "code",
      "metadata": {
        "id": "6tC_WpmbCRVN",
        "colab_type": "code",
        "colab": {
          "base_uri": "https://localhost:8080/",
          "height": 68
        },
        "outputId": "5d263802-b34e-439b-cbeb-54c46f786de0"
      },
      "source": [
        "a + b"
      ],
      "execution_count": 134,
      "outputs": [
        {
          "output_type": "execute_result",
          "data": {
            "text/plain": [
              "array([[0, 1, 2],\n",
              "       [1, 2, 3],\n",
              "       [2, 3, 4]])"
            ]
          },
          "metadata": {
            "tags": []
          },
          "execution_count": 134
        }
      ]
    },
    {
      "cell_type": "markdown",
      "metadata": {
        "id": "-WptmRuACWjz",
        "colab_type": "text"
      },
      "source": [
        "### Broadcasting in Practice"
      ]
    },
    {
      "cell_type": "markdown",
      "metadata": {
        "id": "phbNRV8cCqwJ",
        "colab_type": "text"
      },
      "source": [
        "#### Centering an array"
      ]
    },
    {
      "cell_type": "code",
      "metadata": {
        "id": "r_jyUx9lDI0n",
        "colab_type": "code",
        "colab": {
          "base_uri": "https://localhost:8080/",
          "height": 187
        },
        "outputId": "8e9320c4-c1f9-433e-c54d-84acb352fd5d"
      },
      "source": [
        "X = np.random.random((10, 3))\n",
        "X"
      ],
      "execution_count": 135,
      "outputs": [
        {
          "output_type": "execute_result",
          "data": {
            "text/plain": [
              "array([[0.02738874, 0.05977303, 0.89220508],\n",
              "       [0.95055825, 0.70010411, 0.80801993],\n",
              "       [0.63589531, 0.00943998, 0.72625794],\n",
              "       [0.38946476, 0.65408904, 0.09514551],\n",
              "       [0.04787674, 0.02205499, 0.91729941],\n",
              "       [0.73446864, 0.37161502, 0.40972345],\n",
              "       [0.43714463, 0.40960702, 0.80551649],\n",
              "       [0.11938459, 0.29371374, 0.94713323],\n",
              "       [0.39880272, 0.23072123, 0.49377763],\n",
              "       [0.99792132, 0.85456048, 0.78986936]])"
            ]
          },
          "metadata": {
            "tags": []
          },
          "execution_count": 135
        }
      ]
    },
    {
      "cell_type": "code",
      "metadata": {
        "id": "62Qlk0iDDLjN",
        "colab_type": "code",
        "colab": {
          "base_uri": "https://localhost:8080/",
          "height": 34
        },
        "outputId": "06fb848d-0160-4b82-dd05-373bc50264d9"
      },
      "source": [
        "X_mean = X.mean(axis=0)\n",
        "X_mean"
      ],
      "execution_count": 136,
      "outputs": [
        {
          "output_type": "execute_result",
          "data": {
            "text/plain": [
              "array([0.47389057, 0.36056786, 0.6884948 ])"
            ]
          },
          "metadata": {
            "tags": []
          },
          "execution_count": 136
        }
      ]
    },
    {
      "cell_type": "code",
      "metadata": {
        "id": "x2SdpffVDP_h",
        "colab_type": "code",
        "colab": {}
      },
      "source": [
        "X_centered = X - X_mean"
      ],
      "execution_count": 0,
      "outputs": []
    },
    {
      "cell_type": "code",
      "metadata": {
        "id": "ASvrUFm4DSsy",
        "colab_type": "code",
        "colab": {
          "base_uri": "https://localhost:8080/",
          "height": 187
        },
        "outputId": "bc210ae5-c17d-4225-b9e5-5bdd5c6278d4"
      },
      "source": [
        "X_centered"
      ],
      "execution_count": 138,
      "outputs": [
        {
          "output_type": "execute_result",
          "data": {
            "text/plain": [
              "array([[-0.44650183, -0.30079483,  0.20371028],\n",
              "       [ 0.47666768,  0.33953624,  0.11952513],\n",
              "       [ 0.16200474, -0.35112789,  0.03776314],\n",
              "       [-0.08442581,  0.29352118, -0.59334929],\n",
              "       [-0.42601383, -0.33851287,  0.2288046 ],\n",
              "       [ 0.26057807,  0.01104716, -0.27877136],\n",
              "       [-0.03674594,  0.04903916,  0.11702169],\n",
              "       [-0.35450598, -0.06685412,  0.25863842],\n",
              "       [-0.07508785, -0.12984664, -0.19471718],\n",
              "       [ 0.52403075,  0.49399261,  0.10137456]])"
            ]
          },
          "metadata": {
            "tags": []
          },
          "execution_count": 138
        }
      ]
    },
    {
      "cell_type": "code",
      "metadata": {
        "id": "DaUEDJtHDTwF",
        "colab_type": "code",
        "colab": {
          "base_uri": "https://localhost:8080/",
          "height": 34
        },
        "outputId": "0a6aba98-5469-45b4-f93b-6f0ae1a98d1e"
      },
      "source": [
        "X_centered.mean(0)"
      ],
      "execution_count": 139,
      "outputs": [
        {
          "output_type": "execute_result",
          "data": {
            "text/plain": [
              "array([-6.66133815e-17,  2.22044605e-17,  2.22044605e-17])"
            ]
          },
          "metadata": {
            "tags": []
          },
          "execution_count": 139
        }
      ]
    },
    {
      "cell_type": "markdown",
      "metadata": {
        "id": "JTdpBjPEDZL3",
        "colab_type": "text"
      },
      "source": [
        "#### Plotting a two-dimensional function"
      ]
    },
    {
      "cell_type": "code",
      "metadata": {
        "id": "8A5g2h7CDk_G",
        "colab_type": "code",
        "colab": {}
      },
      "source": [
        "x = np.linspace(0, 5, 250)\n",
        "y = np.linspace(0, 5, 250)[np.newaxis, :]"
      ],
      "execution_count": 0,
      "outputs": []
    },
    {
      "cell_type": "code",
      "metadata": {
        "id": "1tWSg0pjDwPh",
        "colab_type": "code",
        "colab": {
          "base_uri": "https://localhost:8080/",
          "height": 51
        },
        "outputId": "151fe489-0c18-482d-ec65-d2b1a7397fd4"
      },
      "source": [
        "print(x.shape)\n",
        "print(y.shape)"
      ],
      "execution_count": 155,
      "outputs": [
        {
          "output_type": "stream",
          "text": [
            "(250,)\n",
            "(1, 250)\n"
          ],
          "name": "stdout"
        }
      ]
    },
    {
      "cell_type": "code",
      "metadata": {
        "id": "Mu9Y48DnD0NK",
        "colab_type": "code",
        "colab": {}
      },
      "source": [
        "z = np.sin(x) ** 10 + np.cos(10 + y * x) * np.cos(x)"
      ],
      "execution_count": 0,
      "outputs": []
    },
    {
      "cell_type": "code",
      "metadata": {
        "id": "7Th7Chf6D9c4",
        "colab_type": "code",
        "colab": {}
      },
      "source": [
        "%matplotlib inline\n",
        "import matplotlib.pyplot as plt"
      ],
      "execution_count": 0,
      "outputs": []
    },
    {
      "cell_type": "code",
      "metadata": {
        "id": "o7dVIicKEBO_",
        "colab_type": "code",
        "colab": {
          "base_uri": "https://localhost:8080/",
          "height": 269
        },
        "outputId": "af3a2901-7de6-4b45-f82c-0cbbe31b812f"
      },
      "source": [
        "plt.imshow(z, origin='lower', extent=[0, 5, 0, 5], cmap='viridis')\n",
        "plt.colorbar();"
      ],
      "execution_count": 158,
      "outputs": [
        {
          "output_type": "display_data",
          "data": {
            "image/png": "[encoded data removed]",
            "text/plain": [
              "<Figure size 432x288 with 2 Axes>"
            ]
          },
          "metadata": {
            "tags": [],
            "needs_background": "light"
          }
        }
      ]
    },
    {
      "cell_type": "markdown",
      "metadata": {
        "id": "bg_uZNBwEIl5",
        "colab_type": "text"
      },
      "source": [
        "---"
      ]
    },
    {
      "cell_type": "markdown",
      "metadata": {
        "id": "CFX2XLUoEarF",
        "colab_type": "text"
      },
      "source": [
        "## Comparisons, Masks, and Boolean Logic"
      ]
    },
    {
      "cell_type": "markdown",
      "metadata": {
        "id": "uNjzCHd8EeJB",
        "colab_type": "text"
      },
      "source": [
        "### Comparision Operators as ufuncs"
      ]
    },
    {
      "cell_type": "code",
      "metadata": {
        "id": "Hh1ROhyJGH2f",
        "colab_type": "code",
        "colab": {}
      },
      "source": [
        "x = np.arange(0, 10)"
      ],
      "execution_count": 0,
      "outputs": []
    },
    {
      "cell_type": "code",
      "metadata": {
        "id": "QdXAp_inGLNn",
        "colab_type": "code",
        "colab": {
          "base_uri": "https://localhost:8080/",
          "height": 51
        },
        "outputId": "6914e454-2719-4fff-d971-dabefe0e9663"
      },
      "source": [
        "x < 3"
      ],
      "execution_count": 160,
      "outputs": [
        {
          "output_type": "execute_result",
          "data": {
            "text/plain": [
              "array([ True,  True,  True, False, False, False, False, False, False,\n",
              "       False])"
            ]
          },
          "metadata": {
            "tags": []
          },
          "execution_count": 160
        }
      ]
    },
    {
      "cell_type": "code",
      "metadata": {
        "id": "e-nRW4i5GMHF",
        "colab_type": "code",
        "colab": {
          "base_uri": "https://localhost:8080/",
          "height": 51
        },
        "outputId": "b15798f7-e5a6-4bd4-f08e-73686413c73c"
      },
      "source": [
        "x > 5"
      ],
      "execution_count": 161,
      "outputs": [
        {
          "output_type": "execute_result",
          "data": {
            "text/plain": [
              "array([False, False, False, False, False, False,  True,  True,  True,\n",
              "        True])"
            ]
          },
          "metadata": {
            "tags": []
          },
          "execution_count": 161
        }
      ]
    },
    {
      "cell_type": "code",
      "metadata": {
        "id": "1R98NMTPGNHd",
        "colab_type": "code",
        "colab": {
          "base_uri": "https://localhost:8080/",
          "height": 51
        },
        "outputId": "78610eac-f144-4c6a-dc6f-c3d17bb3a843"
      },
      "source": [
        "(2 * x ) == (x ** 2)"
      ],
      "execution_count": 162,
      "outputs": [
        {
          "output_type": "execute_result",
          "data": {
            "text/plain": [
              "array([ True, False,  True, False, False, False, False, False, False,\n",
              "       False])"
            ]
          },
          "metadata": {
            "tags": []
          },
          "execution_count": 162
        }
      ]
    },
    {
      "cell_type": "code",
      "metadata": {
        "id": "-wBaWhexGVI4",
        "colab_type": "code",
        "colab": {}
      },
      "source": [
        "rng = np.random.RandomState(0)"
      ],
      "execution_count": 0,
      "outputs": []
    },
    {
      "cell_type": "code",
      "metadata": {
        "id": "MW2LT8VXGeCN",
        "colab_type": "code",
        "colab": {
          "base_uri": "https://localhost:8080/",
          "height": 68
        },
        "outputId": "033b4b35-faf2-4d0f-845e-02329addae10"
      },
      "source": [
        "x = rng.randint(10, size=(3, 4))\n",
        "x"
      ],
      "execution_count": 164,
      "outputs": [
        {
          "output_type": "execute_result",
          "data": {
            "text/plain": [
              "array([[5, 0, 3, 3],\n",
              "       [7, 9, 3, 5],\n",
              "       [2, 4, 7, 6]])"
            ]
          },
          "metadata": {
            "tags": []
          },
          "execution_count": 164
        }
      ]
    },
    {
      "cell_type": "code",
      "metadata": {
        "id": "vTF3udQXGhjx",
        "colab_type": "code",
        "colab": {
          "base_uri": "https://localhost:8080/",
          "height": 68
        },
        "outputId": "4e223c2e-cd84-4abd-9eb0-5669018380a2"
      },
      "source": [
        "x < 5"
      ],
      "execution_count": 165,
      "outputs": [
        {
          "output_type": "execute_result",
          "data": {
            "text/plain": [
              "array([[False,  True,  True,  True],\n",
              "       [False, False,  True, False],\n",
              "       [ True,  True, False, False]])"
            ]
          },
          "metadata": {
            "tags": []
          },
          "execution_count": 165
        }
      ]
    },
    {
      "cell_type": "code",
      "metadata": {
        "id": "6eCD1PLgGjLd",
        "colab_type": "code",
        "colab": {
          "base_uri": "https://localhost:8080/",
          "height": 34
        },
        "outputId": "2794475c-2ee9-4920-db30-bc212eb3797d"
      },
      "source": [
        "(x < 5).sum()"
      ],
      "execution_count": 168,
      "outputs": [
        {
          "output_type": "execute_result",
          "data": {
            "text/plain": [
              "6"
            ]
          },
          "metadata": {
            "tags": []
          },
          "execution_count": 168
        }
      ]
    },
    {
      "cell_type": "markdown",
      "metadata": {
        "id": "zu7h2kylGmBX",
        "colab_type": "text"
      },
      "source": [
        "### Working with Boolean Arrays"
      ]
    },
    {
      "cell_type": "code",
      "metadata": {
        "id": "P2EtjRkiGwHf",
        "colab_type": "code",
        "colab": {
          "base_uri": "https://localhost:8080/",
          "height": 34
        },
        "outputId": "94dde073-7d60-4ce4-a994-8726cdba0356"
      },
      "source": [
        "np.count_nonzero(x < 5)"
      ],
      "execution_count": 169,
      "outputs": [
        {
          "output_type": "execute_result",
          "data": {
            "text/plain": [
              "6"
            ]
          },
          "metadata": {
            "tags": []
          },
          "execution_count": 169
        }
      ]
    },
    {
      "cell_type": "code",
      "metadata": {
        "id": "s93DPgpkG0rZ",
        "colab_type": "code",
        "colab": {
          "base_uri": "https://localhost:8080/",
          "height": 34
        },
        "outputId": "f91556f2-e34a-446e-cba9-3bbe77a05b29"
      },
      "source": [
        "(x < 5).sum(0)"
      ],
      "execution_count": 170,
      "outputs": [
        {
          "output_type": "execute_result",
          "data": {
            "text/plain": [
              "array([1, 2, 2, 1])"
            ]
          },
          "metadata": {
            "tags": []
          },
          "execution_count": 170
        }
      ]
    },
    {
      "cell_type": "code",
      "metadata": {
        "id": "L75axq8uG6Y1",
        "colab_type": "code",
        "colab": {
          "base_uri": "https://localhost:8080/",
          "height": 34
        },
        "outputId": "22c1523c-a0f0-4489-8a23-d09fcc681f81"
      },
      "source": [
        "np.any(x > 8)"
      ],
      "execution_count": 171,
      "outputs": [
        {
          "output_type": "execute_result",
          "data": {
            "text/plain": [
              "True"
            ]
          },
          "metadata": {
            "tags": []
          },
          "execution_count": 171
        }
      ]
    },
    {
      "cell_type": "code",
      "metadata": {
        "id": "tFUHDUkYHEMQ",
        "colab_type": "code",
        "colab": {
          "base_uri": "https://localhost:8080/",
          "height": 34
        },
        "outputId": "605ac4be-4d57-44ef-ba6b-efb5749a81fb"
      },
      "source": [
        "(x > 8).any()"
      ],
      "execution_count": 172,
      "outputs": [
        {
          "output_type": "execute_result",
          "data": {
            "text/plain": [
              "True"
            ]
          },
          "metadata": {
            "tags": []
          },
          "execution_count": 172
        }
      ]
    },
    {
      "cell_type": "code",
      "metadata": {
        "id": "eduoQiFQHFxc",
        "colab_type": "code",
        "colab": {
          "base_uri": "https://localhost:8080/",
          "height": 34
        },
        "outputId": "d53bc2c3-c81e-43a4-a0a0-cb63068c6190"
      },
      "source": [
        "np.all(x > 8)"
      ],
      "execution_count": 176,
      "outputs": [
        {
          "output_type": "execute_result",
          "data": {
            "text/plain": [
              "False"
            ]
          },
          "metadata": {
            "tags": []
          },
          "execution_count": 176
        }
      ]
    },
    {
      "cell_type": "code",
      "metadata": {
        "id": "eTMT3BVsHJfX",
        "colab_type": "code",
        "colab": {}
      },
      "source": [
        "y = rng.randint(0, 100, 100)"
      ],
      "execution_count": 0,
      "outputs": []
    },
    {
      "cell_type": "code",
      "metadata": {
        "id": "LlX-1BvSHltU",
        "colab_type": "code",
        "colab": {
          "base_uri": "https://localhost:8080/",
          "height": 119
        },
        "outputId": "487f5022-1cc1-4448-f468-dc9aea96b347"
      },
      "source": [
        "y"
      ],
      "execution_count": 178,
      "outputs": [
        {
          "output_type": "execute_result",
          "data": {
            "text/plain": [
              "array([88, 88, 12, 58, 65, 39, 87, 46, 88, 81, 37, 25, 77, 72,  9, 20, 80,\n",
              "       69, 79, 47, 64, 82, 99, 88, 49, 29, 19, 19, 14, 39, 32, 65,  9, 57,\n",
              "       32, 31, 74, 23, 35, 75, 55, 28, 34,  0,  0, 36, 53,  5, 38, 17, 79,\n",
              "        4, 42, 58, 31,  1, 65, 41, 57, 35, 11, 46, 82, 91,  0, 14, 99, 53,\n",
              "       12, 42, 84, 75, 68,  6, 68, 47,  3, 76, 52, 78, 15, 20, 99, 58, 23,\n",
              "       79, 13, 85, 48, 49, 69, 41, 35, 64, 95, 69, 94,  0, 50, 36])"
            ]
          },
          "metadata": {
            "tags": []
          },
          "execution_count": 178
        }
      ]
    },
    {
      "cell_type": "code",
      "metadata": {
        "id": "xKl8ceibHmdn",
        "colab_type": "code",
        "colab": {
          "base_uri": "https://localhost:8080/",
          "height": 34
        },
        "outputId": "8a29a41c-bf7f-46e3-9d83-ac5696f38801"
      },
      "source": [
        "np.sum((y >= 50) & (y <= 60 ))"
      ],
      "execution_count": 180,
      "outputs": [
        {
          "output_type": "execute_result",
          "data": {
            "text/plain": [
              "10"
            ]
          },
          "metadata": {
            "tags": []
          },
          "execution_count": 180
        }
      ]
    },
    {
      "cell_type": "code",
      "metadata": {
        "id": "wswFIJiOHx0I",
        "colab_type": "code",
        "colab": {
          "base_uri": "https://localhost:8080/",
          "height": 34
        },
        "outputId": "1f81d5f7-e0ce-41bc-c88e-2a3de77ca470"
      },
      "source": [
        "y[(y >= 50) & (y <= 60 )]"
      ],
      "execution_count": 181,
      "outputs": [
        {
          "output_type": "execute_result",
          "data": {
            "text/plain": [
              "array([58, 57, 55, 53, 58, 57, 53, 52, 58, 50])"
            ]
          },
          "metadata": {
            "tags": []
          },
          "execution_count": 181
        }
      ]
    },
    {
      "cell_type": "markdown",
      "metadata": {
        "id": "F7nTstGLH5Ps",
        "colab_type": "text"
      },
      "source": [
        "### Boolean Arrays as Masks"
      ]
    },
    {
      "cell_type": "code",
      "metadata": {
        "id": "l53KC0jMIDkz",
        "colab_type": "code",
        "colab": {
          "base_uri": "https://localhost:8080/",
          "height": 68
        },
        "outputId": "a8f33b1f-acda-4af9-ccdb-f3d9812ed861"
      },
      "source": [
        "x"
      ],
      "execution_count": 182,
      "outputs": [
        {
          "output_type": "execute_result",
          "data": {
            "text/plain": [
              "array([[5, 0, 3, 3],\n",
              "       [7, 9, 3, 5],\n",
              "       [2, 4, 7, 6]])"
            ]
          },
          "metadata": {
            "tags": []
          },
          "execution_count": 182
        }
      ]
    },
    {
      "cell_type": "markdown",
      "metadata": {
        "id": "sTQ-fl1_II6M",
        "colab_type": "text"
      },
      "source": [
        "\n",
        "#### Differences between and/or compared to &/"
      ]
    },
    {
      "cell_type": "code",
      "metadata": {
        "id": "Sb99S1_7Isn-",
        "colab_type": "code",
        "colab": {
          "base_uri": "https://localhost:8080/",
          "height": 34
        },
        "outputId": "c0498961-e06c-43dd-a564-6d711cd830a1"
      },
      "source": [
        "bool(42), bool(0)"
      ],
      "execution_count": 183,
      "outputs": [
        {
          "output_type": "execute_result",
          "data": {
            "text/plain": [
              "(True, False)"
            ]
          },
          "metadata": {
            "tags": []
          },
          "execution_count": 183
        }
      ]
    },
    {
      "cell_type": "code",
      "metadata": {
        "id": "vAdemwIOIvvy",
        "colab_type": "code",
        "colab": {
          "base_uri": "https://localhost:8080/",
          "height": 34
        },
        "outputId": "72d527e0-970f-4dbe-9fcb-248c6a827393"
      },
      "source": [
        "bin(42), bin(0)"
      ],
      "execution_count": 184,
      "outputs": [
        {
          "output_type": "execute_result",
          "data": {
            "text/plain": [
              "('0b101010', '0b0')"
            ]
          },
          "metadata": {
            "tags": []
          },
          "execution_count": 184
        }
      ]
    },
    {
      "cell_type": "code",
      "metadata": {
        "id": "Co_bU7SPIyBJ",
        "colab_type": "code",
        "colab": {
          "base_uri": "https://localhost:8080/",
          "height": 34
        },
        "outputId": "03d2bc3e-ec3a-4c3f-8f2f-accfedad7aa1"
      },
      "source": [
        "bin(42) and bin(0)"
      ],
      "execution_count": 185,
      "outputs": [
        {
          "output_type": "execute_result",
          "data": {
            "text/plain": [
              "'0b0'"
            ]
          },
          "metadata": {
            "tags": []
          },
          "execution_count": 185
        }
      ]
    },
    {
      "cell_type": "markdown",
      "metadata": {
        "id": "3BtPcG6yI4wm",
        "colab_type": "text"
      },
      "source": [
        "---"
      ]
    },
    {
      "cell_type": "markdown",
      "metadata": {
        "id": "VkItvsQPJAlJ",
        "colab_type": "text"
      },
      "source": [
        "### Fancy Indexing"
      ]
    },
    {
      "cell_type": "code",
      "metadata": {
        "id": "yNlA_ScgJCfU",
        "colab_type": "code",
        "colab": {
          "base_uri": "https://localhost:8080/",
          "height": 34
        },
        "outputId": "d0d002fe-e6fa-4d58-89e2-4dda265b5fca"
      },
      "source": [
        "x = rng.randint(100, size=10)\n",
        "x"
      ],
      "execution_count": 188,
      "outputs": [
        {
          "output_type": "execute_result",
          "data": {
            "text/plain": [
              "array([34, 48, 93,  3, 98, 42, 77, 21, 73,  0])"
            ]
          },
          "metadata": {
            "tags": []
          },
          "execution_count": 188
        }
      ]
    },
    {
      "cell_type": "code",
      "metadata": {
        "id": "6oKykW7qKKY_",
        "colab_type": "code",
        "colab": {
          "base_uri": "https://localhost:8080/",
          "height": 34
        },
        "outputId": "337bb4ec-2a88-4c4c-e19c-dbc4e1b48deb"
      },
      "source": [
        "x[[3, 4, 5]]"
      ],
      "execution_count": 189,
      "outputs": [
        {
          "output_type": "execute_result",
          "data": {
            "text/plain": [
              "array([ 3, 98, 42])"
            ]
          },
          "metadata": {
            "tags": []
          },
          "execution_count": 189
        }
      ]
    },
    {
      "cell_type": "code",
      "metadata": {
        "id": "IcpaorfyKUPC",
        "colab_type": "code",
        "colab": {}
      },
      "source": [
        "ind = np.array([[3, 7],\n",
        "                [9, 2]])"
      ],
      "execution_count": 0,
      "outputs": []
    },
    {
      "cell_type": "code",
      "metadata": {
        "id": "PFyT2uVmKda4",
        "colab_type": "code",
        "colab": {
          "base_uri": "https://localhost:8080/",
          "height": 51
        },
        "outputId": "a1762184-8769-482b-b7e2-de2d96b9d33e"
      },
      "source": [
        "x[ind]"
      ],
      "execution_count": 191,
      "outputs": [
        {
          "output_type": "execute_result",
          "data": {
            "text/plain": [
              "array([[ 3, 21],\n",
              "       [ 0, 93]])"
            ]
          },
          "metadata": {
            "tags": []
          },
          "execution_count": 191
        }
      ]
    },
    {
      "cell_type": "code",
      "metadata": {
        "id": "Rji-vojMKe8_",
        "colab_type": "code",
        "colab": {}
      },
      "source": [
        "X = np.arange(12).reshape(3, 4)"
      ],
      "execution_count": 0,
      "outputs": []
    },
    {
      "cell_type": "code",
      "metadata": {
        "id": "eLiBPa2-KoUH",
        "colab_type": "code",
        "colab": {
          "base_uri": "https://localhost:8080/",
          "height": 68
        },
        "outputId": "c56dbee7-eeb8-48d8-de3c-4fd6617865aa"
      },
      "source": [
        "X"
      ],
      "execution_count": 193,
      "outputs": [
        {
          "output_type": "execute_result",
          "data": {
            "text/plain": [
              "array([[ 0,  1,  2,  3],\n",
              "       [ 4,  5,  6,  7],\n",
              "       [ 8,  9, 10, 11]])"
            ]
          },
          "metadata": {
            "tags": []
          },
          "execution_count": 193
        }
      ]
    },
    {
      "cell_type": "code",
      "metadata": {
        "id": "k-X_eOycKotH",
        "colab_type": "code",
        "colab": {
          "base_uri": "https://localhost:8080/",
          "height": 34
        },
        "outputId": "8ef9dfb8-9e39-4d99-e6d8-460bb47733e9"
      },
      "source": [
        "row = np.array([0, 1, 2])\n",
        "col = np.array([2, 1, 3])\n",
        "X[row, col]"
      ],
      "execution_count": 194,
      "outputs": [
        {
          "output_type": "execute_result",
          "data": {
            "text/plain": [
              "array([ 2,  5, 11])"
            ]
          },
          "metadata": {
            "tags": []
          },
          "execution_count": 194
        }
      ]
    },
    {
      "cell_type": "markdown",
      "metadata": {
        "id": "d78X3xQyKupu",
        "colab_type": "text"
      },
      "source": [
        "### Combined Indexing"
      ]
    },
    {
      "cell_type": "code",
      "metadata": {
        "id": "Z6eDS1z8LFCj",
        "colab_type": "code",
        "colab": {
          "base_uri": "https://localhost:8080/",
          "height": 68
        },
        "outputId": "cd54a9d0-34ab-4db0-9130-0033a494f530"
      },
      "source": [
        "print(X)"
      ],
      "execution_count": 195,
      "outputs": [
        {
          "output_type": "stream",
          "text": [
            "[[ 0  1  2  3]\n",
            " [ 4  5  6  7]\n",
            " [ 8  9 10 11]]\n"
          ],
          "name": "stdout"
        }
      ]
    },
    {
      "cell_type": "code",
      "metadata": {
        "id": "AYw1NxGjLF2M",
        "colab_type": "code",
        "colab": {
          "base_uri": "https://localhost:8080/",
          "height": 34
        },
        "outputId": "839cdd3f-cdae-41d3-d814-bb89314c1c3c"
      },
      "source": [
        "X[2, [1, 2, 3]]"
      ],
      "execution_count": 196,
      "outputs": [
        {
          "output_type": "execute_result",
          "data": {
            "text/plain": [
              "array([ 9, 10, 11])"
            ]
          },
          "metadata": {
            "tags": []
          },
          "execution_count": 196
        }
      ]
    },
    {
      "cell_type": "markdown",
      "metadata": {
        "id": "0-9v4bhbLLeI",
        "colab_type": "text"
      },
      "source": [
        "### Example: Selecting Random Points"
      ]
    },
    {
      "cell_type": "code",
      "metadata": {
        "id": "OCz0nuciLd0e",
        "colab_type": "code",
        "colab": {}
      },
      "source": [
        "mean = [0, 0]\n",
        "cov = [[1, 2],\n",
        "       [2, 5]]"
      ],
      "execution_count": 0,
      "outputs": []
    },
    {
      "cell_type": "code",
      "metadata": {
        "id": "ji8G2DOkMVIp",
        "colab_type": "code",
        "colab": {
          "base_uri": "https://localhost:8080/",
          "height": 34
        },
        "outputId": "1d1981d4-d27d-4125-ddf2-98e3edf0c53d"
      },
      "source": [
        "X = rng.multivariate_normal(mean, cov, 100)\n",
        "X.shape"
      ],
      "execution_count": 199,
      "outputs": [
        {
          "output_type": "execute_result",
          "data": {
            "text/plain": [
              "(100, 2)"
            ]
          },
          "metadata": {
            "tags": []
          },
          "execution_count": 199
        }
      ]
    },
    {
      "cell_type": "code",
      "metadata": {
        "id": "sd4J7svrMc8E",
        "colab_type": "code",
        "colab": {}
      },
      "source": [
        "%matplotlib inline\n",
        "import matplotlib.pyplot as plt\n",
        "import seaborn as sns\n",
        "sns.set()"
      ],
      "execution_count": 0,
      "outputs": []
    },
    {
      "cell_type": "code",
      "metadata": {
        "id": "UBkD_UPSMmuK",
        "colab_type": "code",
        "colab": {
          "base_uri": "https://localhost:8080/",
          "height": 268
        },
        "outputId": "f857e8ee-0699-4bb7-edc8-2e4dc11e514a"
      },
      "source": [
        "plt.scatter(X[:, 0], X[:, 1]);"
      ],
      "execution_count": 202,
      "outputs": [
        {
          "output_type": "display_data",
          "data": {
            "image/png": "[encoded data removed]",
            "text/plain": [
              "<Figure size 432x288 with 1 Axes>"
            ]
          },
          "metadata": {
            "tags": []
          }
        }
      ]
    },
    {
      "cell_type": "code",
      "metadata": {
        "id": "Lk54d_5UMqYd",
        "colab_type": "code",
        "colab": {
          "base_uri": "https://localhost:8080/",
          "height": 51
        },
        "outputId": "574b73e3-8fbe-42cd-800e-69dbd2b6ba7b"
      },
      "source": [
        "indices = np.random.choice(X.shape[0], 20, replace=False)\n",
        "indices"
      ],
      "execution_count": 203,
      "outputs": [
        {
          "output_type": "execute_result",
          "data": {
            "text/plain": [
              "array([64, 72, 53, 71, 24, 28, 85, 60, 49,  5,  8, 39, 48, 73, 52, 55, 26,\n",
              "       34, 57, 70])"
            ]
          },
          "metadata": {
            "tags": []
          },
          "execution_count": 203
        }
      ]
    },
    {
      "cell_type": "code",
      "metadata": {
        "id": "YpNz6uSFMyh-",
        "colab_type": "code",
        "colab": {
          "base_uri": "https://localhost:8080/",
          "height": 34
        },
        "outputId": "b6eb6bae-eb38-4ae9-88e7-fa84cfbef7f5"
      },
      "source": [
        "selection = X[indices]\n",
        "selection.shape"
      ],
      "execution_count": 206,
      "outputs": [
        {
          "output_type": "execute_result",
          "data": {
            "text/plain": [
              "(20, 2)"
            ]
          },
          "metadata": {
            "tags": []
          },
          "execution_count": 206
        }
      ]
    },
    {
      "cell_type": "code",
      "metadata": {
        "id": "JMC6b6SwM5Dj",
        "colab_type": "code",
        "colab": {
          "base_uri": "https://localhost:8080/",
          "height": 268
        },
        "outputId": "6dabca16-31b6-4fb0-87a1-49b70ba6fb5a"
      },
      "source": [
        "plt.scatter(X[:, 0], X[:, 1], alpha=0.3)\n",
        "plt.scatter(selection[:, 0], selection[:, 1], facecolor='none', s=200);"
      ],
      "execution_count": 207,
      "outputs": [
        {
          "output_type": "display_data",
          "data": {
            "image/png": "[encoded data removed]",
            "text/plain": [
              "<Figure size 432x288 with 1 Axes>"
            ]
          },
          "metadata": {
            "tags": []
          }
        }
      ]
    },
    {
      "cell_type": "markdown",
      "metadata": {
        "id": "JMu22mScND3l",
        "colab_type": "text"
      },
      "source": [
        "### Modifying Values with Fancy Indexing"
      ]
    },
    {
      "cell_type": "code",
      "metadata": {
        "id": "kPhD0Lg9Ngkv",
        "colab_type": "code",
        "colab": {
          "base_uri": "https://localhost:8080/",
          "height": 34
        },
        "outputId": "88028dd5-386a-4291-f885-2866962b9f98"
      },
      "source": [
        "x = np.arange(10)\n",
        "i = np.array([2, 1, 8, 4])\n",
        "x[i] = 42\n",
        "print(x)"
      ],
      "execution_count": 208,
      "outputs": [
        {
          "output_type": "stream",
          "text": [
            "[ 0 42 42  3 42  5  6  7 42  9]\n"
          ],
          "name": "stdout"
        }
      ]
    },
    {
      "cell_type": "code",
      "metadata": {
        "id": "knfsTinZNv2Z",
        "colab_type": "code",
        "colab": {
          "base_uri": "https://localhost:8080/",
          "height": 357
        },
        "outputId": "c149c55e-7f81-43e6-9218-b9af742d3cf2"
      },
      "source": [
        "x = rng.randn(100)\n",
        "x"
      ],
      "execution_count": 210,
      "outputs": [
        {
          "output_type": "execute_result",
          "data": {
            "text/plain": [
              "array([ 0.03723304,  1.30275033,  0.24990045, -0.64586771,  0.47119601,\n",
              "       -0.39810329, -0.95921519,  0.54087305, -0.07824546,  1.83379274,\n",
              "        1.0246933 , -0.08166743, -2.62754439, -0.35645775, -0.09860287,\n",
              "       -1.3003954 ,  0.28873961,  1.45137755, -0.17791818, -0.16990685,\n",
              "        0.55012716,  2.09628076, -0.87680291, -0.43299184, -0.84589888,\n",
              "        0.16373274,  0.29839875,  0.23766958, -0.15580481, -0.8595119 ,\n",
              "        2.5290124 , -0.84448494,  0.89066205,  0.77200376,  0.02031364,\n",
              "       -1.58325014,  0.07544465,  0.5921135 ,  0.2407829 , -0.79654715,\n",
              "       -0.06139562,  0.06509959,  0.2486498 , -0.75473057,  1.69943135,\n",
              "       -0.39274665, -0.86249519,  1.08245595, -0.14978222, -1.01479235,\n",
              "        0.68895269, -2.34110832,  0.12614029,  1.20093909,  0.96299691,\n",
              "        1.59006635,  0.61723123, -0.47781636,  1.73627939,  2.97069986,\n",
              "        0.61513455,  2.0669435 ,  0.07754323, -0.45231908, -0.59755485,\n",
              "        1.308767  ,  0.38587713, -0.00719074, -0.66298574, -1.34704629,\n",
              "       -0.09519928, -0.22772779,  0.43243668,  0.46693969, -1.3402814 ,\n",
              "        1.42285966,  0.99379727, -0.61651086,  0.20493776, -0.47954552,\n",
              "        1.51238621, -1.34683907, -2.78073771, -0.0894738 ,  0.55814156,\n",
              "        0.75572522,  0.47821507, -0.05390584, -1.24190139, -1.65849531,\n",
              "       -0.35337169,  1.6565077 ,  1.51191283, -0.90680429, -0.77721733,\n",
              "       -0.73922809,  0.9879891 , -0.02647272, -1.26266935, -1.56116514])"
            ]
          },
          "metadata": {
            "tags": []
          },
          "execution_count": 210
        }
      ]
    },
    {
      "cell_type": "code",
      "metadata": {
        "id": "6jhmUcw5Pi7_",
        "colab_type": "code",
        "colab": {
          "base_uri": "https://localhost:8080/",
          "height": 85
        },
        "outputId": "b5817186-a02c-4b4a-c891-d1ed9379a998"
      },
      "source": [
        "# compute a histogram by hand\n",
        "bins = np.linspace(-5, 5, 20)\n",
        "bins"
      ],
      "execution_count": 212,
      "outputs": [
        {
          "output_type": "execute_result",
          "data": {
            "text/plain": [
              "array([-5.        , -4.47368421, -3.94736842, -3.42105263, -2.89473684,\n",
              "       -2.36842105, -1.84210526, -1.31578947, -0.78947368, -0.26315789,\n",
              "        0.26315789,  0.78947368,  1.31578947,  1.84210526,  2.36842105,\n",
              "        2.89473684,  3.42105263,  3.94736842,  4.47368421,  5.        ])"
            ]
          },
          "metadata": {
            "tags": []
          },
          "execution_count": 212
        }
      ]
    },
    {
      "cell_type": "code",
      "metadata": {
        "id": "2OCTzQhwPouN",
        "colab_type": "code",
        "colab": {
          "base_uri": "https://localhost:8080/",
          "height": 51
        },
        "outputId": "69628033-4deb-4162-e543-7da75b93a676"
      },
      "source": [
        "counts = np.zeros_like(bins)\n",
        "counts"
      ],
      "execution_count": 213,
      "outputs": [
        {
          "output_type": "execute_result",
          "data": {
            "text/plain": [
              "array([0., 0., 0., 0., 0., 0., 0., 0., 0., 0., 0., 0., 0., 0., 0., 0., 0.,\n",
              "       0., 0., 0.])"
            ]
          },
          "metadata": {
            "tags": []
          },
          "execution_count": 213
        }
      ]
    },
    {
      "cell_type": "code",
      "metadata": {
        "id": "GSFL4FQUPxbv",
        "colab_type": "code",
        "colab": {
          "base_uri": "https://localhost:8080/",
          "height": 119
        },
        "outputId": "6d8be6d0-a024-4a28-c6f7-748dec300ad7"
      },
      "source": [
        "# find the appropriate bin for each x\n",
        "i = np.searchsorted(bins, x)\n",
        "i"
      ],
      "execution_count": 214,
      "outputs": [
        {
          "output_type": "execute_result",
          "data": {
            "text/plain": [
              "array([10, 12, 10,  9, 11,  9,  8, 11, 10, 13, 12, 10,  5,  9, 10,  8, 11,\n",
              "       13, 10, 10, 11, 14,  8,  9,  8, 10, 11, 10, 10,  8, 15,  8, 12, 11,\n",
              "       10,  7, 10, 11, 10,  8, 10, 10, 10,  9, 13,  9,  8, 12, 10,  8, 11,\n",
              "        6, 10, 12, 12, 13, 11,  9, 13, 16, 11, 14, 10,  9,  9, 12, 11, 10,\n",
              "        9,  7, 10, 10, 11, 11,  7, 13, 12,  9, 10,  9, 13,  7,  5, 10, 11,\n",
              "       11, 11, 10,  8,  7,  9, 13, 13,  8,  9,  9, 12, 10,  8,  7])"
            ]
          },
          "metadata": {
            "tags": []
          },
          "execution_count": 214
        }
      ]
    },
    {
      "cell_type": "code",
      "metadata": {
        "id": "_tFaPSU8QIOH",
        "colab_type": "code",
        "colab": {}
      },
      "source": [
        "np.add.at(counts, i, 1)"
      ],
      "execution_count": 0,
      "outputs": []
    },
    {
      "cell_type": "code",
      "metadata": {
        "id": "v_ikqXucQNwA",
        "colab_type": "code",
        "colab": {
          "base_uri": "https://localhost:8080/",
          "height": 322
        },
        "outputId": "887a6656-97c3-46ff-d66c-884ec7ec9181"
      },
      "source": [
        "plt.plot(bins, counts, linestyle='steps');"
      ],
      "execution_count": 216,
      "outputs": [
        {
          "output_type": "stream",
          "text": [
            "/usr/local/lib/python3.6/dist-packages/ipykernel_launcher.py:1: MatplotlibDeprecationWarning: Passing the drawstyle with the linestyle as a single string is deprecated since Matplotlib 3.1 and support will be removed in 3.3; please pass the drawstyle separately using the drawstyle keyword argument to Line2D or set_drawstyle() method (or ds/set_ds()).\n",
            "  \"\"\"Entry point for launching an IPython kernel.\n"
          ],
          "name": "stderr"
        },
        {
          "output_type": "display_data",
          "data": {
            "image/png": "[encoded data removed]",
            "text/plain": [
              "<Figure size 432x288 with 1 Axes>"
            ]
          },
          "metadata": {
            "tags": []
          }
        }
      ]
    },
    {
      "cell_type": "markdown",
      "metadata": {
        "id": "1NhdxEyFQS8H",
        "colab_type": "text"
      },
      "source": [
        "---"
      ]
    },
    {
      "cell_type": "markdown",
      "metadata": {
        "id": "0vPDgV78QoTc",
        "colab_type": "text"
      },
      "source": [
        "## Sorting Arrays"
      ]
    },
    {
      "cell_type": "code",
      "metadata": {
        "id": "65kME6vCQpjn",
        "colab_type": "code",
        "colab": {
          "base_uri": "https://localhost:8080/",
          "height": 34
        },
        "outputId": "3a6fea2e-d5e4-4a18-9543-142064251eaa"
      },
      "source": [
        "x = np.random.randint(0, 10, 10)\n",
        "x"
      ],
      "execution_count": 217,
      "outputs": [
        {
          "output_type": "execute_result",
          "data": {
            "text/plain": [
              "array([3, 3, 7, 0, 5, 5, 8, 9, 5, 0])"
            ]
          },
          "metadata": {
            "tags": []
          },
          "execution_count": 217
        }
      ]
    },
    {
      "cell_type": "code",
      "metadata": {
        "id": "Dr-iAVNPSD4O",
        "colab_type": "code",
        "colab": {
          "base_uri": "https://localhost:8080/",
          "height": 34
        },
        "outputId": "82efe0a0-17bc-489b-a1d1-fae8f690dec1"
      },
      "source": [
        "np.sort(x)"
      ],
      "execution_count": 218,
      "outputs": [
        {
          "output_type": "execute_result",
          "data": {
            "text/plain": [
              "array([0, 0, 3, 3, 5, 5, 5, 7, 8, 9])"
            ]
          },
          "metadata": {
            "tags": []
          },
          "execution_count": 218
        }
      ]
    },
    {
      "cell_type": "code",
      "metadata": {
        "id": "bk4em-m_SEml",
        "colab_type": "code",
        "colab": {
          "base_uri": "https://localhost:8080/",
          "height": 51
        },
        "outputId": "74e8856f-fb2b-40ea-9242-836074116aba"
      },
      "source": [
        "i = np.argsort(x)\n",
        "print(i)\n",
        "print(x[i])"
      ],
      "execution_count": 219,
      "outputs": [
        {
          "output_type": "stream",
          "text": [
            "[3 9 0 1 4 5 8 2 6 7]\n",
            "[0 0 3 3 5 5 5 7 8 9]\n"
          ],
          "name": "stdout"
        }
      ]
    },
    {
      "cell_type": "code",
      "metadata": {
        "id": "Y7LvUEa-SSjq",
        "colab_type": "code",
        "colab": {}
      },
      "source": [
        "X = np.random.randint(0, 10, size=(4, 6))"
      ],
      "execution_count": 0,
      "outputs": []
    },
    {
      "cell_type": "code",
      "metadata": {
        "id": "Xf0v5kqfSZzD",
        "colab_type": "code",
        "colab": {
          "base_uri": "https://localhost:8080/",
          "height": 85
        },
        "outputId": "72d09ace-0c9e-4c7c-b0a8-a3b05e26a1b5"
      },
      "source": [
        "X"
      ],
      "execution_count": 221,
      "outputs": [
        {
          "output_type": "execute_result",
          "data": {
            "text/plain": [
              "array([[1, 0, 9, 6, 6, 1],\n",
              "       [7, 6, 7, 4, 6, 4],\n",
              "       [3, 0, 3, 5, 0, 7],\n",
              "       [8, 6, 2, 6, 2, 6]])"
            ]
          },
          "metadata": {
            "tags": []
          },
          "execution_count": 221
        }
      ]
    },
    {
      "cell_type": "code",
      "metadata": {
        "id": "a9NA4VjMSaGW",
        "colab_type": "code",
        "colab": {
          "base_uri": "https://localhost:8080/",
          "height": 85
        },
        "outputId": "e78ba022-3811-4f77-c5be-d9078c57969f"
      },
      "source": [
        "# sort each column\n",
        "np.sort(X, axis=0)"
      ],
      "execution_count": 223,
      "outputs": [
        {
          "output_type": "execute_result",
          "data": {
            "text/plain": [
              "array([[1, 0, 2, 4, 0, 1],\n",
              "       [3, 0, 3, 5, 2, 4],\n",
              "       [7, 6, 7, 6, 6, 6],\n",
              "       [8, 6, 9, 6, 6, 7]])"
            ]
          },
          "metadata": {
            "tags": []
          },
          "execution_count": 223
        }
      ]
    },
    {
      "cell_type": "code",
      "metadata": {
        "id": "ijcKaIgNSfeb",
        "colab_type": "code",
        "colab": {
          "base_uri": "https://localhost:8080/",
          "height": 85
        },
        "outputId": "da398f42-fa5b-4d81-d57b-be2a600b6b46"
      },
      "source": [
        "# sort each row\n",
        "np.sort(X, axis=1)"
      ],
      "execution_count": 224,
      "outputs": [
        {
          "output_type": "execute_result",
          "data": {
            "text/plain": [
              "array([[0, 1, 1, 6, 6, 9],\n",
              "       [4, 4, 6, 6, 7, 7],\n",
              "       [0, 0, 3, 3, 5, 7],\n",
              "       [2, 2, 6, 6, 6, 8]])"
            ]
          },
          "metadata": {
            "tags": []
          },
          "execution_count": 224
        }
      ]
    },
    {
      "cell_type": "markdown",
      "metadata": {
        "id": "uQ5brnuASmbh",
        "colab_type": "text"
      },
      "source": [
        "### Partial Sorts: Partitioning"
      ]
    },
    {
      "cell_type": "code",
      "metadata": {
        "id": "g-4eEMuJS3CM",
        "colab_type": "code",
        "colab": {
          "base_uri": "https://localhost:8080/",
          "height": 34
        },
        "outputId": "2485398d-919f-4948-c356-81397ee710df"
      },
      "source": [
        "x = np.array([7, 2, 3, 1, 6, 5, 4])\n",
        "np.partition(x, 3)"
      ],
      "execution_count": 226,
      "outputs": [
        {
          "output_type": "execute_result",
          "data": {
            "text/plain": [
              "array([2, 1, 3, 4, 6, 5, 7])"
            ]
          },
          "metadata": {
            "tags": []
          },
          "execution_count": 226
        }
      ]
    },
    {
      "cell_type": "markdown",
      "metadata": {
        "id": "ismkbbyMTPbo",
        "colab_type": "text"
      },
      "source": [
        "---"
      ]
    },
    {
      "cell_type": "markdown",
      "metadata": {
        "id": "NrcvhP_CYpBU",
        "colab_type": "text"
      },
      "source": [
        "## Structured Data: NumPy's Structured Arrays"
      ]
    },
    {
      "cell_type": "code",
      "metadata": {
        "id": "r6RF7HgIYtF4",
        "colab_type": "code",
        "colab": {}
      },
      "source": [
        "name = ['Alice', 'Bob', 'Cathy', 'Doug']\n",
        "age = [25, 45, 37, 19]\n",
        "weight = [55.0, 85.5, 68.0, 61.5]"
      ],
      "execution_count": 0,
      "outputs": []
    },
    {
      "cell_type": "code",
      "metadata": {
        "id": "c_pwbSrhYx-b",
        "colab_type": "code",
        "colab": {}
      },
      "source": [
        " data = np.zeros(4, dtype={'names':('name', 'age', 'weight'),\n",
        "                           'formats':('U10', 'i4', 'f8')}) "
      ],
      "execution_count": 0,
      "outputs": []
    },
    {
      "cell_type": "code",
      "metadata": {
        "id": "9ToOh9eLZGC-",
        "colab_type": "code",
        "colab": {
          "base_uri": "https://localhost:8080/",
          "height": 34
        },
        "outputId": "04be650b-6d18-413b-c252-5277004dccfd"
      },
      "source": [
        "data.dtype"
      ],
      "execution_count": 234,
      "outputs": [
        {
          "output_type": "execute_result",
          "data": {
            "text/plain": [
              "dtype([('name', '<U10'), ('age', '<i4'), ('weight', '<f8')])"
            ]
          },
          "metadata": {
            "tags": []
          },
          "execution_count": 234
        }
      ]
    },
    {
      "cell_type": "code",
      "metadata": {
        "id": "P59svPCEZeSp",
        "colab_type": "code",
        "colab": {}
      },
      "source": [
        "data['name'] = name\n",
        "data['age'] = age\n",
        "data['weight'] = weight"
      ],
      "execution_count": 0,
      "outputs": []
    },
    {
      "cell_type": "code",
      "metadata": {
        "id": "2rlOJyu_ZkCs",
        "colab_type": "code",
        "colab": {
          "base_uri": "https://localhost:8080/",
          "height": 51
        },
        "outputId": "f64f3fc1-c4a6-405d-9714-ad6f64210f73"
      },
      "source": [
        "print(data)"
      ],
      "execution_count": 236,
      "outputs": [
        {
          "output_type": "stream",
          "text": [
            "[('Alice', 25, 55. ) ('Bob', 45, 85.5) ('Cathy', 37, 68. )\n",
            " ('Doug', 19, 61.5)]\n"
          ],
          "name": "stdout"
        }
      ]
    }
  ]
}