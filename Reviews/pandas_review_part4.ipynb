{
  "nbformat": 4,
  "nbformat_minor": 0,
  "metadata": {
    "colab": {
      "name": "pandas_review_part4.ipynb",
      "provenance": [],
      "collapsed_sections": []
    },
    "kernelspec": {
      "name": "python3",
      "display_name": "Python 3"
    }
  },
  "cells": [
    {
      "cell_type": "markdown",
      "metadata": {
        "id": "Vl_7AP-snB8W",
        "colab_type": "text"
      },
      "source": [
        "# Pandas Review Part IV"
      ]
    },
    {
      "cell_type": "markdown",
      "metadata": {
        "id": "0X831k7pnYUO",
        "colab_type": "text"
      },
      "source": [
        "## Pivot Tables"
      ]
    },
    {
      "cell_type": "markdown",
      "metadata": {
        "id": "gZ-T6BUUnaCG",
        "colab_type": "text"
      },
      "source": [
        "### Motivating Pivot Tables"
      ]
    },
    {
      "cell_type": "code",
      "metadata": {
        "id": "T06xjHEEnr6c",
        "colab_type": "code",
        "colab": {
          "base_uri": "https://localhost:8080/",
          "height": 71
        },
        "outputId": "be41e9aa-bc00-4604-d35a-86547177fac6"
      },
      "source": [
        "import numpy as np\n",
        "import pandas as pd\n",
        "import matplotlib.pyplot as plt\n",
        "import seaborn as sns\n",
        "titanic = sns.load_dataset('titanic')"
      ],
      "execution_count": 1,
      "outputs": [
        {
          "output_type": "stream",
          "text": [
            "/usr/local/lib/python3.6/dist-packages/statsmodels/tools/_testing.py:19: FutureWarning: pandas.util.testing is deprecated. Use the functions in the public API at pandas.testing instead.\n",
            "  import pandas.util.testing as tm\n"
          ],
          "name": "stderr"
        }
      ]
    },
    {
      "cell_type": "code",
      "metadata": {
        "id": "z6oc5rMwn2MJ",
        "colab_type": "code",
        "colab": {
          "base_uri": "https://localhost:8080/",
          "height": 224
        },
        "outputId": "9b5aa6fb-b6c0-415c-8203-d3ae726b0108"
      },
      "source": [
        "titanic.head()"
      ],
      "execution_count": 2,
      "outputs": [
        {
          "output_type": "execute_result",
          "data": {
            "text/html": [
              "<div>\n",
              "<style scoped>\n",
              "    .dataframe tbody tr th:only-of-type {\n",
              "        vertical-align: middle;\n",
              "    }\n",
              "\n",
              "    .dataframe tbody tr th {\n",
              "        vertical-align: top;\n",
              "    }\n",
              "\n",
              "    .dataframe thead th {\n",
              "        text-align: right;\n",
              "    }\n",
              "</style>\n",
              "<table border=\"1\" class=\"dataframe\">\n",
              "  <thead>\n",
              "    <tr style=\"text-align: right;\">\n",
              "      <th></th>\n",
              "      <th>survived</th>\n",
              "      <th>pclass</th>\n",
              "      <th>sex</th>\n",
              "      <th>age</th>\n",
              "      <th>sibsp</th>\n",
              "      <th>parch</th>\n",
              "      <th>fare</th>\n",
              "      <th>embarked</th>\n",
              "      <th>class</th>\n",
              "      <th>who</th>\n",
              "      <th>adult_male</th>\n",
              "      <th>deck</th>\n",
              "      <th>embark_town</th>\n",
              "      <th>alive</th>\n",
              "      <th>alone</th>\n",
              "    </tr>\n",
              "  </thead>\n",
              "  <tbody>\n",
              "    <tr>\n",
              "      <th>0</th>\n",
              "      <td>0</td>\n",
              "      <td>3</td>\n",
              "      <td>male</td>\n",
              "      <td>22.0</td>\n",
              "      <td>1</td>\n",
              "      <td>0</td>\n",
              "      <td>7.2500</td>\n",
              "      <td>S</td>\n",
              "      <td>Third</td>\n",
              "      <td>man</td>\n",
              "      <td>True</td>\n",
              "      <td>NaN</td>\n",
              "      <td>Southampton</td>\n",
              "      <td>no</td>\n",
              "      <td>False</td>\n",
              "    </tr>\n",
              "    <tr>\n",
              "      <th>1</th>\n",
              "      <td>1</td>\n",
              "      <td>1</td>\n",
              "      <td>female</td>\n",
              "      <td>38.0</td>\n",
              "      <td>1</td>\n",
              "      <td>0</td>\n",
              "      <td>71.2833</td>\n",
              "      <td>C</td>\n",
              "      <td>First</td>\n",
              "      <td>woman</td>\n",
              "      <td>False</td>\n",
              "      <td>C</td>\n",
              "      <td>Cherbourg</td>\n",
              "      <td>yes</td>\n",
              "      <td>False</td>\n",
              "    </tr>\n",
              "    <tr>\n",
              "      <th>2</th>\n",
              "      <td>1</td>\n",
              "      <td>3</td>\n",
              "      <td>female</td>\n",
              "      <td>26.0</td>\n",
              "      <td>0</td>\n",
              "      <td>0</td>\n",
              "      <td>7.9250</td>\n",
              "      <td>S</td>\n",
              "      <td>Third</td>\n",
              "      <td>woman</td>\n",
              "      <td>False</td>\n",
              "      <td>NaN</td>\n",
              "      <td>Southampton</td>\n",
              "      <td>yes</td>\n",
              "      <td>True</td>\n",
              "    </tr>\n",
              "    <tr>\n",
              "      <th>3</th>\n",
              "      <td>1</td>\n",
              "      <td>1</td>\n",
              "      <td>female</td>\n",
              "      <td>35.0</td>\n",
              "      <td>1</td>\n",
              "      <td>0</td>\n",
              "      <td>53.1000</td>\n",
              "      <td>S</td>\n",
              "      <td>First</td>\n",
              "      <td>woman</td>\n",
              "      <td>False</td>\n",
              "      <td>C</td>\n",
              "      <td>Southampton</td>\n",
              "      <td>yes</td>\n",
              "      <td>False</td>\n",
              "    </tr>\n",
              "    <tr>\n",
              "      <th>4</th>\n",
              "      <td>0</td>\n",
              "      <td>3</td>\n",
              "      <td>male</td>\n",
              "      <td>35.0</td>\n",
              "      <td>0</td>\n",
              "      <td>0</td>\n",
              "      <td>8.0500</td>\n",
              "      <td>S</td>\n",
              "      <td>Third</td>\n",
              "      <td>man</td>\n",
              "      <td>True</td>\n",
              "      <td>NaN</td>\n",
              "      <td>Southampton</td>\n",
              "      <td>no</td>\n",
              "      <td>True</td>\n",
              "    </tr>\n",
              "  </tbody>\n",
              "</table>\n",
              "</div>"
            ],
            "text/plain": [
              "   survived  pclass     sex   age  ...  deck  embark_town  alive  alone\n",
              "0         0       3    male  22.0  ...   NaN  Southampton     no  False\n",
              "1         1       1  female  38.0  ...     C    Cherbourg    yes  False\n",
              "2         1       3  female  26.0  ...   NaN  Southampton    yes   True\n",
              "3         1       1  female  35.0  ...     C  Southampton    yes  False\n",
              "4         0       3    male  35.0  ...   NaN  Southampton     no   True\n",
              "\n",
              "[5 rows x 15 columns]"
            ]
          },
          "metadata": {
            "tags": []
          },
          "execution_count": 2
        }
      ]
    },
    {
      "cell_type": "markdown",
      "metadata": {
        "id": "Y3NMjau-n3AJ",
        "colab_type": "text"
      },
      "source": [
        "### Pivot Tables by Hand"
      ]
    },
    {
      "cell_type": "code",
      "metadata": {
        "id": "SFzmDtkeoK5C",
        "colab_type": "code",
        "colab": {
          "base_uri": "https://localhost:8080/",
          "height": 142
        },
        "outputId": "92d8e5c2-bbdf-4bd4-f319-36085a1ee75e"
      },
      "source": [
        "titanic.groupby('sex')[['survived']].mean()"
      ],
      "execution_count": 3,
      "outputs": [
        {
          "output_type": "execute_result",
          "data": {
            "text/html": [
              "<div>\n",
              "<style scoped>\n",
              "    .dataframe tbody tr th:only-of-type {\n",
              "        vertical-align: middle;\n",
              "    }\n",
              "\n",
              "    .dataframe tbody tr th {\n",
              "        vertical-align: top;\n",
              "    }\n",
              "\n",
              "    .dataframe thead th {\n",
              "        text-align: right;\n",
              "    }\n",
              "</style>\n",
              "<table border=\"1\" class=\"dataframe\">\n",
              "  <thead>\n",
              "    <tr style=\"text-align: right;\">\n",
              "      <th></th>\n",
              "      <th>survived</th>\n",
              "    </tr>\n",
              "    <tr>\n",
              "      <th>sex</th>\n",
              "      <th></th>\n",
              "    </tr>\n",
              "  </thead>\n",
              "  <tbody>\n",
              "    <tr>\n",
              "      <th>female</th>\n",
              "      <td>0.742038</td>\n",
              "    </tr>\n",
              "    <tr>\n",
              "      <th>male</th>\n",
              "      <td>0.188908</td>\n",
              "    </tr>\n",
              "  </tbody>\n",
              "</table>\n",
              "</div>"
            ],
            "text/plain": [
              "        survived\n",
              "sex             \n",
              "female  0.742038\n",
              "male    0.188908"
            ]
          },
          "metadata": {
            "tags": []
          },
          "execution_count": 3
        }
      ]
    },
    {
      "cell_type": "code",
      "metadata": {
        "id": "8OXff9c9oUGT",
        "colab_type": "code",
        "colab": {
          "base_uri": "https://localhost:8080/",
          "height": 153
        },
        "outputId": "51e15de7-b334-49f9-d7f5-d408da1c129b"
      },
      "source": [
        "titanic.groupby(['sex', 'class'])['survived'].agg('mean')"
      ],
      "execution_count": 4,
      "outputs": [
        {
          "output_type": "execute_result",
          "data": {
            "text/plain": [
              "sex     class \n",
              "female  First     0.968085\n",
              "        Second    0.921053\n",
              "        Third     0.500000\n",
              "male    First     0.368852\n",
              "        Second    0.157407\n",
              "        Third     0.135447\n",
              "Name: survived, dtype: float64"
            ]
          },
          "metadata": {
            "tags": []
          },
          "execution_count": 4
        }
      ]
    },
    {
      "cell_type": "code",
      "metadata": {
        "id": "NgawNWOGotOD",
        "colab_type": "code",
        "colab": {
          "base_uri": "https://localhost:8080/",
          "height": 142
        },
        "outputId": "8127fc91-3bc8-41c3-bf1b-69fccfc566dd"
      },
      "source": [
        "titanic.groupby(['sex', 'class'])['survived'].mean().unstack()"
      ],
      "execution_count": 5,
      "outputs": [
        {
          "output_type": "execute_result",
          "data": {
            "text/html": [
              "<div>\n",
              "<style scoped>\n",
              "    .dataframe tbody tr th:only-of-type {\n",
              "        vertical-align: middle;\n",
              "    }\n",
              "\n",
              "    .dataframe tbody tr th {\n",
              "        vertical-align: top;\n",
              "    }\n",
              "\n",
              "    .dataframe thead th {\n",
              "        text-align: right;\n",
              "    }\n",
              "</style>\n",
              "<table border=\"1\" class=\"dataframe\">\n",
              "  <thead>\n",
              "    <tr style=\"text-align: right;\">\n",
              "      <th>class</th>\n",
              "      <th>First</th>\n",
              "      <th>Second</th>\n",
              "      <th>Third</th>\n",
              "    </tr>\n",
              "    <tr>\n",
              "      <th>sex</th>\n",
              "      <th></th>\n",
              "      <th></th>\n",
              "      <th></th>\n",
              "    </tr>\n",
              "  </thead>\n",
              "  <tbody>\n",
              "    <tr>\n",
              "      <th>female</th>\n",
              "      <td>0.968085</td>\n",
              "      <td>0.921053</td>\n",
              "      <td>0.500000</td>\n",
              "    </tr>\n",
              "    <tr>\n",
              "      <th>male</th>\n",
              "      <td>0.368852</td>\n",
              "      <td>0.157407</td>\n",
              "      <td>0.135447</td>\n",
              "    </tr>\n",
              "  </tbody>\n",
              "</table>\n",
              "</div>"
            ],
            "text/plain": [
              "class      First    Second     Third\n",
              "sex                                 \n",
              "female  0.968085  0.921053  0.500000\n",
              "male    0.368852  0.157407  0.135447"
            ]
          },
          "metadata": {
            "tags": []
          },
          "execution_count": 5
        }
      ]
    },
    {
      "cell_type": "markdown",
      "metadata": {
        "id": "nDBW4_yhoy_g",
        "colab_type": "text"
      },
      "source": [
        "### Pivot Table Syntax"
      ]
    },
    {
      "cell_type": "code",
      "metadata": {
        "id": "bFRcg3lAARcD",
        "colab_type": "code",
        "colab": {
          "base_uri": "https://localhost:8080/",
          "height": 142
        },
        "outputId": "e4890bde-7c78-4118-a631-5aad77689cbc"
      },
      "source": [
        "titanic.pivot_table('survived', index='sex', columns='class')"
      ],
      "execution_count": 6,
      "outputs": [
        {
          "output_type": "execute_result",
          "data": {
            "text/html": [
              "<div>\n",
              "<style scoped>\n",
              "    .dataframe tbody tr th:only-of-type {\n",
              "        vertical-align: middle;\n",
              "    }\n",
              "\n",
              "    .dataframe tbody tr th {\n",
              "        vertical-align: top;\n",
              "    }\n",
              "\n",
              "    .dataframe thead th {\n",
              "        text-align: right;\n",
              "    }\n",
              "</style>\n",
              "<table border=\"1\" class=\"dataframe\">\n",
              "  <thead>\n",
              "    <tr style=\"text-align: right;\">\n",
              "      <th>class</th>\n",
              "      <th>First</th>\n",
              "      <th>Second</th>\n",
              "      <th>Third</th>\n",
              "    </tr>\n",
              "    <tr>\n",
              "      <th>sex</th>\n",
              "      <th></th>\n",
              "      <th></th>\n",
              "      <th></th>\n",
              "    </tr>\n",
              "  </thead>\n",
              "  <tbody>\n",
              "    <tr>\n",
              "      <th>female</th>\n",
              "      <td>0.968085</td>\n",
              "      <td>0.921053</td>\n",
              "      <td>0.500000</td>\n",
              "    </tr>\n",
              "    <tr>\n",
              "      <th>male</th>\n",
              "      <td>0.368852</td>\n",
              "      <td>0.157407</td>\n",
              "      <td>0.135447</td>\n",
              "    </tr>\n",
              "  </tbody>\n",
              "</table>\n",
              "</div>"
            ],
            "text/plain": [
              "class      First    Second     Third\n",
              "sex                                 \n",
              "female  0.968085  0.921053  0.500000\n",
              "male    0.368852  0.157407  0.135447"
            ]
          },
          "metadata": {
            "tags": []
          },
          "execution_count": 6
        }
      ]
    },
    {
      "cell_type": "code",
      "metadata": {
        "id": "xo_1LWdBAb0Q",
        "colab_type": "code",
        "colab": {
          "base_uri": "https://localhost:8080/",
          "height": 204
        },
        "outputId": "fa632dd6-50c9-408e-bcdf-e3b7dcfc53c1"
      },
      "source": [
        "age = pd.cut(titanic['age'], [0, 18, 80])\n",
        "titanic.pivot_table('survived', index=['sex', age], columns='class')"
      ],
      "execution_count": 7,
      "outputs": [
        {
          "output_type": "execute_result",
          "data": {
            "text/html": [
              "<div>\n",
              "<style scoped>\n",
              "    .dataframe tbody tr th:only-of-type {\n",
              "        vertical-align: middle;\n",
              "    }\n",
              "\n",
              "    .dataframe tbody tr th {\n",
              "        vertical-align: top;\n",
              "    }\n",
              "\n",
              "    .dataframe thead th {\n",
              "        text-align: right;\n",
              "    }\n",
              "</style>\n",
              "<table border=\"1\" class=\"dataframe\">\n",
              "  <thead>\n",
              "    <tr style=\"text-align: right;\">\n",
              "      <th></th>\n",
              "      <th>class</th>\n",
              "      <th>First</th>\n",
              "      <th>Second</th>\n",
              "      <th>Third</th>\n",
              "    </tr>\n",
              "    <tr>\n",
              "      <th>sex</th>\n",
              "      <th>age</th>\n",
              "      <th></th>\n",
              "      <th></th>\n",
              "      <th></th>\n",
              "    </tr>\n",
              "  </thead>\n",
              "  <tbody>\n",
              "    <tr>\n",
              "      <th rowspan=\"2\" valign=\"top\">female</th>\n",
              "      <th>(0, 18]</th>\n",
              "      <td>0.909091</td>\n",
              "      <td>1.000000</td>\n",
              "      <td>0.511628</td>\n",
              "    </tr>\n",
              "    <tr>\n",
              "      <th>(18, 80]</th>\n",
              "      <td>0.972973</td>\n",
              "      <td>0.900000</td>\n",
              "      <td>0.423729</td>\n",
              "    </tr>\n",
              "    <tr>\n",
              "      <th rowspan=\"2\" valign=\"top\">male</th>\n",
              "      <th>(0, 18]</th>\n",
              "      <td>0.800000</td>\n",
              "      <td>0.600000</td>\n",
              "      <td>0.215686</td>\n",
              "    </tr>\n",
              "    <tr>\n",
              "      <th>(18, 80]</th>\n",
              "      <td>0.375000</td>\n",
              "      <td>0.071429</td>\n",
              "      <td>0.133663</td>\n",
              "    </tr>\n",
              "  </tbody>\n",
              "</table>\n",
              "</div>"
            ],
            "text/plain": [
              "class               First    Second     Third\n",
              "sex    age                                   \n",
              "female (0, 18]   0.909091  1.000000  0.511628\n",
              "       (18, 80]  0.972973  0.900000  0.423729\n",
              "male   (0, 18]   0.800000  0.600000  0.215686\n",
              "       (18, 80]  0.375000  0.071429  0.133663"
            ]
          },
          "metadata": {
            "tags": []
          },
          "execution_count": 7
        }
      ]
    },
    {
      "cell_type": "code",
      "metadata": {
        "id": "x67N4SXuAxox",
        "colab_type": "code",
        "colab": {
          "base_uri": "https://localhost:8080/",
          "height": 119
        },
        "outputId": "a76887aa-a76b-41bf-f17d-cfc21407ef47"
      },
      "source": [
        "titanic['age'].head()"
      ],
      "execution_count": 8,
      "outputs": [
        {
          "output_type": "execute_result",
          "data": {
            "text/plain": [
              "0    22.0\n",
              "1    38.0\n",
              "2    26.0\n",
              "3    35.0\n",
              "4    35.0\n",
              "Name: age, dtype: float64"
            ]
          },
          "metadata": {
            "tags": []
          },
          "execution_count": 8
        }
      ]
    },
    {
      "cell_type": "code",
      "metadata": {
        "id": "D_XaJnxOA0IU",
        "colab_type": "code",
        "colab": {
          "base_uri": "https://localhost:8080/",
          "height": 275
        },
        "outputId": "d528cfb4-6fb6-4929-c9c1-a0d52aa3ef1f"
      },
      "source": [
        "pd.cut(titanic['age'], np.linspace(titanic['age'].min(), titanic['age'].max(), 5))"
      ],
      "execution_count": 9,
      "outputs": [
        {
          "output_type": "execute_result",
          "data": {
            "text/plain": [
              "0      (20.315, 40.21]\n",
              "1      (20.315, 40.21]\n",
              "2      (20.315, 40.21]\n",
              "3      (20.315, 40.21]\n",
              "4      (20.315, 40.21]\n",
              "            ...       \n",
              "886    (20.315, 40.21]\n",
              "887     (0.42, 20.315]\n",
              "888                NaN\n",
              "889    (20.315, 40.21]\n",
              "890    (20.315, 40.21]\n",
              "Name: age, Length: 891, dtype: category\n",
              "Categories (4, interval[float64]): [(0.42, 20.315] < (20.315, 40.21] < (40.21, 60.105] <\n",
              "                                    (60.105, 80.0]]"
            ]
          },
          "metadata": {
            "tags": []
          },
          "execution_count": 9
        }
      ]
    },
    {
      "cell_type": "code",
      "metadata": {
        "id": "ifsOGiDGBFkE",
        "colab_type": "code",
        "colab": {
          "base_uri": "https://localhost:8080/",
          "height": 119
        },
        "outputId": "dd76b21e-6867-4f34-d84a-4a4f26eb28b9"
      },
      "source": [
        "titanic['fare'].head()"
      ],
      "execution_count": 10,
      "outputs": [
        {
          "output_type": "execute_result",
          "data": {
            "text/plain": [
              "0     7.2500\n",
              "1    71.2833\n",
              "2     7.9250\n",
              "3    53.1000\n",
              "4     8.0500\n",
              "Name: fare, dtype: float64"
            ]
          },
          "metadata": {
            "tags": []
          },
          "execution_count": 10
        }
      ]
    },
    {
      "cell_type": "code",
      "metadata": {
        "id": "-1fN4fLDBYdk",
        "colab_type": "code",
        "colab": {
          "base_uri": "https://localhost:8080/",
          "height": 136
        },
        "outputId": "549939af-17ea-468b-a981-7c9ff3e41f34"
      },
      "source": [
        "fare = pd.qcut(titanic['fare'], 2)\n",
        "fare.head()"
      ],
      "execution_count": 11,
      "outputs": [
        {
          "output_type": "execute_result",
          "data": {
            "text/plain": [
              "0     (-0.001, 14.454]\n",
              "1    (14.454, 512.329]\n",
              "2     (-0.001, 14.454]\n",
              "3    (14.454, 512.329]\n",
              "4     (-0.001, 14.454]\n",
              "Name: fare, dtype: category\n",
              "Categories (2, interval[float64]): [(-0.001, 14.454] < (14.454, 512.329]]"
            ]
          },
          "metadata": {
            "tags": []
          },
          "execution_count": 11
        }
      ]
    },
    {
      "cell_type": "code",
      "metadata": {
        "id": "HPHdDbLpBdL1",
        "colab_type": "code",
        "colab": {
          "base_uri": "https://localhost:8080/",
          "height": 235
        },
        "outputId": "4b5b4a59-11a8-4ea3-8416-f3c05bb31d84"
      },
      "source": [
        "titanic.pivot_table('survived', ['sex', age], [fare, 'class'])"
      ],
      "execution_count": 12,
      "outputs": [
        {
          "output_type": "execute_result",
          "data": {
            "text/html": [
              "<div>\n",
              "<style scoped>\n",
              "    .dataframe tbody tr th:only-of-type {\n",
              "        vertical-align: middle;\n",
              "    }\n",
              "\n",
              "    .dataframe tbody tr th {\n",
              "        vertical-align: top;\n",
              "    }\n",
              "\n",
              "    .dataframe thead tr th {\n",
              "        text-align: left;\n",
              "    }\n",
              "\n",
              "    .dataframe thead tr:last-of-type th {\n",
              "        text-align: right;\n",
              "    }\n",
              "</style>\n",
              "<table border=\"1\" class=\"dataframe\">\n",
              "  <thead>\n",
              "    <tr>\n",
              "      <th></th>\n",
              "      <th>fare</th>\n",
              "      <th colspan=\"3\" halign=\"left\">(-0.001, 14.454]</th>\n",
              "      <th colspan=\"3\" halign=\"left\">(14.454, 512.329]</th>\n",
              "    </tr>\n",
              "    <tr>\n",
              "      <th></th>\n",
              "      <th>class</th>\n",
              "      <th>First</th>\n",
              "      <th>Second</th>\n",
              "      <th>Third</th>\n",
              "      <th>First</th>\n",
              "      <th>Second</th>\n",
              "      <th>Third</th>\n",
              "    </tr>\n",
              "    <tr>\n",
              "      <th>sex</th>\n",
              "      <th>age</th>\n",
              "      <th></th>\n",
              "      <th></th>\n",
              "      <th></th>\n",
              "      <th></th>\n",
              "      <th></th>\n",
              "      <th></th>\n",
              "    </tr>\n",
              "  </thead>\n",
              "  <tbody>\n",
              "    <tr>\n",
              "      <th rowspan=\"2\" valign=\"top\">female</th>\n",
              "      <th>(0, 18]</th>\n",
              "      <td>NaN</td>\n",
              "      <td>1.000000</td>\n",
              "      <td>0.714286</td>\n",
              "      <td>0.909091</td>\n",
              "      <td>1.000000</td>\n",
              "      <td>0.318182</td>\n",
              "    </tr>\n",
              "    <tr>\n",
              "      <th>(18, 80]</th>\n",
              "      <td>NaN</td>\n",
              "      <td>0.880000</td>\n",
              "      <td>0.444444</td>\n",
              "      <td>0.972973</td>\n",
              "      <td>0.914286</td>\n",
              "      <td>0.391304</td>\n",
              "    </tr>\n",
              "    <tr>\n",
              "      <th rowspan=\"2\" valign=\"top\">male</th>\n",
              "      <th>(0, 18]</th>\n",
              "      <td>NaN</td>\n",
              "      <td>0.000000</td>\n",
              "      <td>0.260870</td>\n",
              "      <td>0.800000</td>\n",
              "      <td>0.818182</td>\n",
              "      <td>0.178571</td>\n",
              "    </tr>\n",
              "    <tr>\n",
              "      <th>(18, 80]</th>\n",
              "      <td>0.0</td>\n",
              "      <td>0.098039</td>\n",
              "      <td>0.125000</td>\n",
              "      <td>0.391304</td>\n",
              "      <td>0.030303</td>\n",
              "      <td>0.192308</td>\n",
              "    </tr>\n",
              "  </tbody>\n",
              "</table>\n",
              "</div>"
            ],
            "text/plain": [
              "fare            (-0.001, 14.454]            ... (14.454, 512.329]          \n",
              "class                      First    Second  ...            Second     Third\n",
              "sex    age                                  ...                            \n",
              "female (0, 18]               NaN  1.000000  ...          1.000000  0.318182\n",
              "       (18, 80]              NaN  0.880000  ...          0.914286  0.391304\n",
              "male   (0, 18]               NaN  0.000000  ...          0.818182  0.178571\n",
              "       (18, 80]              0.0  0.098039  ...          0.030303  0.192308\n",
              "\n",
              "[4 rows x 6 columns]"
            ]
          },
          "metadata": {
            "tags": []
          },
          "execution_count": 12
        }
      ]
    },
    {
      "cell_type": "markdown",
      "metadata": {
        "id": "dzzP3iaeBmOc",
        "colab_type": "text"
      },
      "source": [
        "### Example: Birthrate Data"
      ]
    },
    {
      "cell_type": "code",
      "metadata": {
        "id": "sukxi-f6CcA8",
        "colab_type": "code",
        "colab": {
          "base_uri": "https://localhost:8080/",
          "height": 68
        },
        "outputId": "84bb13d3-a8e5-484e-c6c2-a11b8b4fed21"
      },
      "source": [
        "!curl -O https://raw.githubusercontent.com/jakevdp/data-CDCbirths/master/births.csv\n"
      ],
      "execution_count": 13,
      "outputs": [
        {
          "output_type": "stream",
          "text": [
            "  % Total    % Received % Xferd  Average Speed   Time    Time     Time  Current\n",
            "                                 Dload  Upload   Total   Spent    Left  Speed\n",
            "\r  0     0    0     0    0     0      0      0 --:--:-- --:--:-- --:--:--     0\r  0  258k    0     0    0     0      0      0 --:--:-- --:--:-- --:--:--     0\r100  258k  100  258k    0     0   659k      0 --:--:-- --:--:-- --:--:--  657k\n"
          ],
          "name": "stdout"
        }
      ]
    },
    {
      "cell_type": "code",
      "metadata": {
        "id": "zz-ZzVvmCfKW",
        "colab_type": "code",
        "colab": {
          "base_uri": "https://localhost:8080/",
          "height": 204
        },
        "outputId": "12063d57-7ae6-4b5a-e0a5-caa72f229747"
      },
      "source": [
        "births = pd.read_csv('births.csv')\n",
        "births.head()"
      ],
      "execution_count": 14,
      "outputs": [
        {
          "output_type": "execute_result",
          "data": {
            "text/html": [
              "<div>\n",
              "<style scoped>\n",
              "    .dataframe tbody tr th:only-of-type {\n",
              "        vertical-align: middle;\n",
              "    }\n",
              "\n",
              "    .dataframe tbody tr th {\n",
              "        vertical-align: top;\n",
              "    }\n",
              "\n",
              "    .dataframe thead th {\n",
              "        text-align: right;\n",
              "    }\n",
              "</style>\n",
              "<table border=\"1\" class=\"dataframe\">\n",
              "  <thead>\n",
              "    <tr style=\"text-align: right;\">\n",
              "      <th></th>\n",
              "      <th>year</th>\n",
              "      <th>month</th>\n",
              "      <th>day</th>\n",
              "      <th>gender</th>\n",
              "      <th>births</th>\n",
              "    </tr>\n",
              "  </thead>\n",
              "  <tbody>\n",
              "    <tr>\n",
              "      <th>0</th>\n",
              "      <td>1969</td>\n",
              "      <td>1</td>\n",
              "      <td>1.0</td>\n",
              "      <td>F</td>\n",
              "      <td>4046</td>\n",
              "    </tr>\n",
              "    <tr>\n",
              "      <th>1</th>\n",
              "      <td>1969</td>\n",
              "      <td>1</td>\n",
              "      <td>1.0</td>\n",
              "      <td>M</td>\n",
              "      <td>4440</td>\n",
              "    </tr>\n",
              "    <tr>\n",
              "      <th>2</th>\n",
              "      <td>1969</td>\n",
              "      <td>1</td>\n",
              "      <td>2.0</td>\n",
              "      <td>F</td>\n",
              "      <td>4454</td>\n",
              "    </tr>\n",
              "    <tr>\n",
              "      <th>3</th>\n",
              "      <td>1969</td>\n",
              "      <td>1</td>\n",
              "      <td>2.0</td>\n",
              "      <td>M</td>\n",
              "      <td>4548</td>\n",
              "    </tr>\n",
              "    <tr>\n",
              "      <th>4</th>\n",
              "      <td>1969</td>\n",
              "      <td>1</td>\n",
              "      <td>3.0</td>\n",
              "      <td>F</td>\n",
              "      <td>4548</td>\n",
              "    </tr>\n",
              "  </tbody>\n",
              "</table>\n",
              "</div>"
            ],
            "text/plain": [
              "   year  month  day gender  births\n",
              "0  1969      1  1.0      F    4046\n",
              "1  1969      1  1.0      M    4440\n",
              "2  1969      1  2.0      F    4454\n",
              "3  1969      1  2.0      M    4548\n",
              "4  1969      1  3.0      F    4548"
            ]
          },
          "metadata": {
            "tags": []
          },
          "execution_count": 14
        }
      ]
    },
    {
      "cell_type": "code",
      "metadata": {
        "id": "gFQC2lPXCtPp",
        "colab_type": "code",
        "colab": {}
      },
      "source": [
        "births['decade'] = 10 * (births['year'] // 10)"
      ],
      "execution_count": 0,
      "outputs": []
    },
    {
      "cell_type": "code",
      "metadata": {
        "id": "xFYM2j9uC35t",
        "colab_type": "code",
        "colab": {
          "base_uri": "https://localhost:8080/",
          "height": 235
        },
        "outputId": "467a6988-a49d-47bc-e0a4-8caa13fbf129"
      },
      "source": [
        "births.pivot_table('births', index='decade', columns='gender', aggfunc='sum')"
      ],
      "execution_count": 16,
      "outputs": [
        {
          "output_type": "execute_result",
          "data": {
            "text/html": [
              "<div>\n",
              "<style scoped>\n",
              "    .dataframe tbody tr th:only-of-type {\n",
              "        vertical-align: middle;\n",
              "    }\n",
              "\n",
              "    .dataframe tbody tr th {\n",
              "        vertical-align: top;\n",
              "    }\n",
              "\n",
              "    .dataframe thead th {\n",
              "        text-align: right;\n",
              "    }\n",
              "</style>\n",
              "<table border=\"1\" class=\"dataframe\">\n",
              "  <thead>\n",
              "    <tr style=\"text-align: right;\">\n",
              "      <th>gender</th>\n",
              "      <th>F</th>\n",
              "      <th>M</th>\n",
              "    </tr>\n",
              "    <tr>\n",
              "      <th>decade</th>\n",
              "      <th></th>\n",
              "      <th></th>\n",
              "    </tr>\n",
              "  </thead>\n",
              "  <tbody>\n",
              "    <tr>\n",
              "      <th>1960</th>\n",
              "      <td>1753634</td>\n",
              "      <td>1846572</td>\n",
              "    </tr>\n",
              "    <tr>\n",
              "      <th>1970</th>\n",
              "      <td>16263075</td>\n",
              "      <td>17121550</td>\n",
              "    </tr>\n",
              "    <tr>\n",
              "      <th>1980</th>\n",
              "      <td>18310351</td>\n",
              "      <td>19243452</td>\n",
              "    </tr>\n",
              "    <tr>\n",
              "      <th>1990</th>\n",
              "      <td>19479454</td>\n",
              "      <td>20420553</td>\n",
              "    </tr>\n",
              "    <tr>\n",
              "      <th>2000</th>\n",
              "      <td>18229309</td>\n",
              "      <td>19106428</td>\n",
              "    </tr>\n",
              "  </tbody>\n",
              "</table>\n",
              "</div>"
            ],
            "text/plain": [
              "gender         F         M\n",
              "decade                    \n",
              "1960     1753634   1846572\n",
              "1970    16263075  17121550\n",
              "1980    18310351  19243452\n",
              "1990    19479454  20420553\n",
              "2000    18229309  19106428"
            ]
          },
          "metadata": {
            "tags": []
          },
          "execution_count": 16
        }
      ]
    },
    {
      "cell_type": "code",
      "metadata": {
        "id": "maax1iL8C-RW",
        "colab_type": "code",
        "colab": {}
      },
      "source": [
        "%matplotlib inline\n",
        "import matplotlib.pyplot as plt\n",
        "import seaborn as sns\n",
        "sns.set()"
      ],
      "execution_count": 0,
      "outputs": []
    },
    {
      "cell_type": "code",
      "metadata": {
        "id": "5VDEAiupDMQa",
        "colab_type": "code",
        "colab": {
          "base_uri": "https://localhost:8080/",
          "height": 296
        },
        "outputId": "bdc98130-2533-447e-e8ca-3d6b38c45cc7"
      },
      "source": [
        "births.pivot_table('births', index='year', columns='gender', aggfunc='sum').plot()\n",
        "plt.ylabel('Total births per year');"
      ],
      "execution_count": 18,
      "outputs": [
        {
          "output_type": "display_data",
          "data": {
            "image/png": "[encoded data removed]",
            "text/plain": [
              "<Figure size 432x288 with 1 Axes>"
            ]
          },
          "metadata": {
            "tags": []
          }
        }
      ]
    },
    {
      "cell_type": "markdown",
      "metadata": {
        "id": "X9eye97EDaCf",
        "colab_type": "text"
      },
      "source": [
        "---"
      ]
    },
    {
      "cell_type": "markdown",
      "metadata": {
        "id": "fuy5P4PzEahf",
        "colab_type": "text"
      },
      "source": [
        "## Vectorized String Operations"
      ]
    },
    {
      "cell_type": "code",
      "metadata": {
        "id": "c0WTmstlEdIA",
        "colab_type": "code",
        "colab": {
          "base_uri": "https://localhost:8080/",
          "height": 34
        },
        "outputId": "8cdef4cf-b6fc-42b1-818d-6dce8463d95c"
      },
      "source": [
        "import numpy as np\n",
        "x = np.array([2, 3, 5, 7, 11, 13])\n",
        "x * 2"
      ],
      "execution_count": 19,
      "outputs": [
        {
          "output_type": "execute_result",
          "data": {
            "text/plain": [
              "array([ 4,  6, 10, 14, 22, 26])"
            ]
          },
          "metadata": {
            "tags": []
          },
          "execution_count": 19
        }
      ]
    },
    {
      "cell_type": "code",
      "metadata": {
        "id": "MPo6BQ1gEnqm",
        "colab_type": "code",
        "colab": {
          "base_uri": "https://localhost:8080/",
          "height": 34
        },
        "outputId": "8ef1c35b-5c85-42d5-86e0-72d4b81609df"
      },
      "source": [
        "data = ['peter', 'Paul', 'MARY', 'gUIDO']\n",
        "[s.capitalize() for s in data]"
      ],
      "execution_count": 20,
      "outputs": [
        {
          "output_type": "execute_result",
          "data": {
            "text/plain": [
              "['Peter', 'Paul', 'Mary', 'Guido']"
            ]
          },
          "metadata": {
            "tags": []
          },
          "execution_count": 20
        }
      ]
    },
    {
      "cell_type": "code",
      "metadata": {
        "id": "NC7OkCn8E9F2",
        "colab_type": "code",
        "colab": {}
      },
      "source": [
        "data = ['peter', 'Paul', None, 'MARY', 'gUIDO']"
      ],
      "execution_count": 0,
      "outputs": []
    },
    {
      "cell_type": "code",
      "metadata": {
        "id": "xSllOCnCEvWS",
        "colab_type": "code",
        "colab": {
          "base_uri": "https://localhost:8080/",
          "height": 119
        },
        "outputId": "b2170fb2-99fe-426a-dc55-0384584b5f4f"
      },
      "source": [
        "import pandas as pd\n",
        "names = pd.Series(data)\n",
        "names"
      ],
      "execution_count": 22,
      "outputs": [
        {
          "output_type": "execute_result",
          "data": {
            "text/plain": [
              "0    peter\n",
              "1     Paul\n",
              "2     None\n",
              "3     MARY\n",
              "4    gUIDO\n",
              "dtype: object"
            ]
          },
          "metadata": {
            "tags": []
          },
          "execution_count": 22
        }
      ]
    },
    {
      "cell_type": "code",
      "metadata": {
        "id": "qf_KgWlZE1Hh",
        "colab_type": "code",
        "colab": {
          "base_uri": "https://localhost:8080/",
          "height": 119
        },
        "outputId": "b895a570-a0e0-415c-c541-d87cc15ccf1a"
      },
      "source": [
        "names.str.capitalize()"
      ],
      "execution_count": 23,
      "outputs": [
        {
          "output_type": "execute_result",
          "data": {
            "text/plain": [
              "0    Peter\n",
              "1     Paul\n",
              "2     None\n",
              "3     Mary\n",
              "4    Guido\n",
              "dtype: object"
            ]
          },
          "metadata": {
            "tags": []
          },
          "execution_count": 23
        }
      ]
    },
    {
      "cell_type": "code",
      "metadata": {
        "id": "PUo8W0QiFDNp",
        "colab_type": "code",
        "colab": {}
      },
      "source": [
        "monte = pd.Series(['Graham Chapman', 'John Cleese', 'Terry Gilliam',                          \n",
        "                   'Eric Idle', 'Terry Jones', 'Michael Palin'])"
      ],
      "execution_count": 0,
      "outputs": []
    },
    {
      "cell_type": "code",
      "metadata": {
        "id": "7rabT7YxFLGN",
        "colab_type": "code",
        "colab": {
          "base_uri": "https://localhost:8080/",
          "height": 136
        },
        "outputId": "0fa54dbd-712b-4829-cac3-f794780be661"
      },
      "source": [
        "monte.str.len()"
      ],
      "execution_count": 25,
      "outputs": [
        {
          "output_type": "execute_result",
          "data": {
            "text/plain": [
              "0    14\n",
              "1    11\n",
              "2    13\n",
              "3     9\n",
              "4    11\n",
              "5    13\n",
              "dtype: int64"
            ]
          },
          "metadata": {
            "tags": []
          },
          "execution_count": 25
        }
      ]
    },
    {
      "cell_type": "code",
      "metadata": {
        "id": "APDZfWuVFN7q",
        "colab_type": "code",
        "colab": {
          "base_uri": "https://localhost:8080/",
          "height": 136
        },
        "outputId": "094f2586-dae6-4954-b0b8-c5c28a948593"
      },
      "source": [
        "monte.str.lower()"
      ],
      "execution_count": 26,
      "outputs": [
        {
          "output_type": "execute_result",
          "data": {
            "text/plain": [
              "0    graham chapman\n",
              "1       john cleese\n",
              "2     terry gilliam\n",
              "3         eric idle\n",
              "4       terry jones\n",
              "5     michael palin\n",
              "dtype: object"
            ]
          },
          "metadata": {
            "tags": []
          },
          "execution_count": 26
        }
      ]
    },
    {
      "cell_type": "code",
      "metadata": {
        "id": "zTW1R3LfFSyI",
        "colab_type": "code",
        "colab": {
          "base_uri": "https://localhost:8080/",
          "height": 136
        },
        "outputId": "6271fe84-5230-4fe4-f95b-1733718dafaf"
      },
      "source": [
        "monte.str.upper()"
      ],
      "execution_count": 27,
      "outputs": [
        {
          "output_type": "execute_result",
          "data": {
            "text/plain": [
              "0    GRAHAM CHAPMAN\n",
              "1       JOHN CLEESE\n",
              "2     TERRY GILLIAM\n",
              "3         ERIC IDLE\n",
              "4       TERRY JONES\n",
              "5     MICHAEL PALIN\n",
              "dtype: object"
            ]
          },
          "metadata": {
            "tags": []
          },
          "execution_count": 27
        }
      ]
    },
    {
      "cell_type": "code",
      "metadata": {
        "id": "u7qdiPOZFUZi",
        "colab_type": "code",
        "colab": {
          "base_uri": "https://localhost:8080/",
          "height": 235
        },
        "outputId": "688c1678-2a7c-45a4-f6f9-58091e052078"
      },
      "source": [
        "monte.str.extract('([A-Za-z]+)')"
      ],
      "execution_count": 28,
      "outputs": [
        {
          "output_type": "execute_result",
          "data": {
            "text/html": [
              "<div>\n",
              "<style scoped>\n",
              "    .dataframe tbody tr th:only-of-type {\n",
              "        vertical-align: middle;\n",
              "    }\n",
              "\n",
              "    .dataframe tbody tr th {\n",
              "        vertical-align: top;\n",
              "    }\n",
              "\n",
              "    .dataframe thead th {\n",
              "        text-align: right;\n",
              "    }\n",
              "</style>\n",
              "<table border=\"1\" class=\"dataframe\">\n",
              "  <thead>\n",
              "    <tr style=\"text-align: right;\">\n",
              "      <th></th>\n",
              "      <th>0</th>\n",
              "    </tr>\n",
              "  </thead>\n",
              "  <tbody>\n",
              "    <tr>\n",
              "      <th>0</th>\n",
              "      <td>Graham</td>\n",
              "    </tr>\n",
              "    <tr>\n",
              "      <th>1</th>\n",
              "      <td>John</td>\n",
              "    </tr>\n",
              "    <tr>\n",
              "      <th>2</th>\n",
              "      <td>Terry</td>\n",
              "    </tr>\n",
              "    <tr>\n",
              "      <th>3</th>\n",
              "      <td>Eric</td>\n",
              "    </tr>\n",
              "    <tr>\n",
              "      <th>4</th>\n",
              "      <td>Terry</td>\n",
              "    </tr>\n",
              "    <tr>\n",
              "      <th>5</th>\n",
              "      <td>Michael</td>\n",
              "    </tr>\n",
              "  </tbody>\n",
              "</table>\n",
              "</div>"
            ],
            "text/plain": [
              "         0\n",
              "0   Graham\n",
              "1     John\n",
              "2    Terry\n",
              "3     Eric\n",
              "4    Terry\n",
              "5  Michael"
            ]
          },
          "metadata": {
            "tags": []
          },
          "execution_count": 28
        }
      ]
    },
    {
      "cell_type": "code",
      "metadata": {
        "id": "l9Qxy1kFFtxR",
        "colab_type": "code",
        "colab": {
          "base_uri": "https://localhost:8080/",
          "height": 136
        },
        "outputId": "c8f6ed73-cabd-4c19-e983-434bbba695fb"
      },
      "source": [
        "monte"
      ],
      "execution_count": 29,
      "outputs": [
        {
          "output_type": "execute_result",
          "data": {
            "text/plain": [
              "0    Graham Chapman\n",
              "1       John Cleese\n",
              "2     Terry Gilliam\n",
              "3         Eric Idle\n",
              "4       Terry Jones\n",
              "5     Michael Palin\n",
              "dtype: object"
            ]
          },
          "metadata": {
            "tags": []
          },
          "execution_count": 29
        }
      ]
    },
    {
      "cell_type": "code",
      "metadata": {
        "id": "hPqsceGjGFAT",
        "colab_type": "code",
        "colab": {
          "base_uri": "https://localhost:8080/",
          "height": 136
        },
        "outputId": "46f70d87-c643-4ca1-fdd1-96d764e9fce5"
      },
      "source": [
        "monte.str.findall(r'^[^AEIOU].*[^aeiou]$')"
      ],
      "execution_count": 30,
      "outputs": [
        {
          "output_type": "execute_result",
          "data": {
            "text/plain": [
              "0    [Graham Chapman]\n",
              "1                  []\n",
              "2     [Terry Gilliam]\n",
              "3                  []\n",
              "4       [Terry Jones]\n",
              "5     [Michael Palin]\n",
              "dtype: object"
            ]
          },
          "metadata": {
            "tags": []
          },
          "execution_count": 30
        }
      ]
    },
    {
      "cell_type": "code",
      "metadata": {
        "id": "S_XtGULkGX7t",
        "colab_type": "code",
        "colab": {
          "base_uri": "https://localhost:8080/",
          "height": 136
        },
        "outputId": "3b70e6e3-d737-458e-8293-207c044a1092"
      },
      "source": [
        "monte.str[:3]"
      ],
      "execution_count": 31,
      "outputs": [
        {
          "output_type": "execute_result",
          "data": {
            "text/plain": [
              "0    Gra\n",
              "1    Joh\n",
              "2    Ter\n",
              "3    Eri\n",
              "4    Ter\n",
              "5    Mic\n",
              "dtype: object"
            ]
          },
          "metadata": {
            "tags": []
          },
          "execution_count": 31
        }
      ]
    },
    {
      "cell_type": "code",
      "metadata": {
        "id": "vQYoAufeGjxN",
        "colab_type": "code",
        "colab": {
          "base_uri": "https://localhost:8080/",
          "height": 136
        },
        "outputId": "268b00ab-02e8-4c02-eeb8-33f3e891a7f6"
      },
      "source": [
        "monte.str.split()"
      ],
      "execution_count": 32,
      "outputs": [
        {
          "output_type": "execute_result",
          "data": {
            "text/plain": [
              "0    [Graham, Chapman]\n",
              "1       [John, Cleese]\n",
              "2     [Terry, Gilliam]\n",
              "3         [Eric, Idle]\n",
              "4       [Terry, Jones]\n",
              "5     [Michael, Palin]\n",
              "dtype: object"
            ]
          },
          "metadata": {
            "tags": []
          },
          "execution_count": 32
        }
      ]
    },
    {
      "cell_type": "code",
      "metadata": {
        "id": "bmtF7bvnGqZP",
        "colab_type": "code",
        "colab": {
          "base_uri": "https://localhost:8080/",
          "height": 136
        },
        "outputId": "54f766b2-2714-43b6-bc4b-4dd159670eab"
      },
      "source": [
        "monte.str.split().str.get(-1)"
      ],
      "execution_count": 33,
      "outputs": [
        {
          "output_type": "execute_result",
          "data": {
            "text/plain": [
              "0    Chapman\n",
              "1     Cleese\n",
              "2    Gilliam\n",
              "3       Idle\n",
              "4      Jones\n",
              "5      Palin\n",
              "dtype: object"
            ]
          },
          "metadata": {
            "tags": []
          },
          "execution_count": 33
        }
      ]
    },
    {
      "cell_type": "code",
      "metadata": {
        "id": "qZDGS9ebG0IC",
        "colab_type": "code",
        "colab": {
          "base_uri": "https://localhost:8080/",
          "height": 235
        },
        "outputId": "36641534-3276-4dd8-843c-c1e62fa45ef5"
      },
      "source": [
        "full_monte = pd.DataFrame({'name': monte,                           \n",
        "                           'info': ['B|C|D', 'B|D', 'A|C', 'B|D', 'B|C',                           \n",
        "                                    'B|C|D']})\n",
        "full_monte"
      ],
      "execution_count": 34,
      "outputs": [
        {
          "output_type": "execute_result",
          "data": {
            "text/html": [
              "<div>\n",
              "<style scoped>\n",
              "    .dataframe tbody tr th:only-of-type {\n",
              "        vertical-align: middle;\n",
              "    }\n",
              "\n",
              "    .dataframe tbody tr th {\n",
              "        vertical-align: top;\n",
              "    }\n",
              "\n",
              "    .dataframe thead th {\n",
              "        text-align: right;\n",
              "    }\n",
              "</style>\n",
              "<table border=\"1\" class=\"dataframe\">\n",
              "  <thead>\n",
              "    <tr style=\"text-align: right;\">\n",
              "      <th></th>\n",
              "      <th>name</th>\n",
              "      <th>info</th>\n",
              "    </tr>\n",
              "  </thead>\n",
              "  <tbody>\n",
              "    <tr>\n",
              "      <th>0</th>\n",
              "      <td>Graham Chapman</td>\n",
              "      <td>B|C|D</td>\n",
              "    </tr>\n",
              "    <tr>\n",
              "      <th>1</th>\n",
              "      <td>John Cleese</td>\n",
              "      <td>B|D</td>\n",
              "    </tr>\n",
              "    <tr>\n",
              "      <th>2</th>\n",
              "      <td>Terry Gilliam</td>\n",
              "      <td>A|C</td>\n",
              "    </tr>\n",
              "    <tr>\n",
              "      <th>3</th>\n",
              "      <td>Eric Idle</td>\n",
              "      <td>B|D</td>\n",
              "    </tr>\n",
              "    <tr>\n",
              "      <th>4</th>\n",
              "      <td>Terry Jones</td>\n",
              "      <td>B|C</td>\n",
              "    </tr>\n",
              "    <tr>\n",
              "      <th>5</th>\n",
              "      <td>Michael Palin</td>\n",
              "      <td>B|C|D</td>\n",
              "    </tr>\n",
              "  </tbody>\n",
              "</table>\n",
              "</div>"
            ],
            "text/plain": [
              "             name   info\n",
              "0  Graham Chapman  B|C|D\n",
              "1     John Cleese    B|D\n",
              "2   Terry Gilliam    A|C\n",
              "3       Eric Idle    B|D\n",
              "4     Terry Jones    B|C\n",
              "5   Michael Palin  B|C|D"
            ]
          },
          "metadata": {
            "tags": []
          },
          "execution_count": 34
        }
      ]
    },
    {
      "cell_type": "code",
      "metadata": {
        "id": "QvJV7SErHEgo",
        "colab_type": "code",
        "colab": {
          "base_uri": "https://localhost:8080/",
          "height": 235
        },
        "outputId": "812e3748-9209-4ace-9521-643667344205"
      },
      "source": [
        "full_monte['info'].str.get_dummies('|')"
      ],
      "execution_count": 35,
      "outputs": [
        {
          "output_type": "execute_result",
          "data": {
            "text/html": [
              "<div>\n",
              "<style scoped>\n",
              "    .dataframe tbody tr th:only-of-type {\n",
              "        vertical-align: middle;\n",
              "    }\n",
              "\n",
              "    .dataframe tbody tr th {\n",
              "        vertical-align: top;\n",
              "    }\n",
              "\n",
              "    .dataframe thead th {\n",
              "        text-align: right;\n",
              "    }\n",
              "</style>\n",
              "<table border=\"1\" class=\"dataframe\">\n",
              "  <thead>\n",
              "    <tr style=\"text-align: right;\">\n",
              "      <th></th>\n",
              "      <th>A</th>\n",
              "      <th>B</th>\n",
              "      <th>C</th>\n",
              "      <th>D</th>\n",
              "    </tr>\n",
              "  </thead>\n",
              "  <tbody>\n",
              "    <tr>\n",
              "      <th>0</th>\n",
              "      <td>0</td>\n",
              "      <td>1</td>\n",
              "      <td>1</td>\n",
              "      <td>1</td>\n",
              "    </tr>\n",
              "    <tr>\n",
              "      <th>1</th>\n",
              "      <td>0</td>\n",
              "      <td>1</td>\n",
              "      <td>0</td>\n",
              "      <td>1</td>\n",
              "    </tr>\n",
              "    <tr>\n",
              "      <th>2</th>\n",
              "      <td>1</td>\n",
              "      <td>0</td>\n",
              "      <td>1</td>\n",
              "      <td>0</td>\n",
              "    </tr>\n",
              "    <tr>\n",
              "      <th>3</th>\n",
              "      <td>0</td>\n",
              "      <td>1</td>\n",
              "      <td>0</td>\n",
              "      <td>1</td>\n",
              "    </tr>\n",
              "    <tr>\n",
              "      <th>4</th>\n",
              "      <td>0</td>\n",
              "      <td>1</td>\n",
              "      <td>1</td>\n",
              "      <td>0</td>\n",
              "    </tr>\n",
              "    <tr>\n",
              "      <th>5</th>\n",
              "      <td>0</td>\n",
              "      <td>1</td>\n",
              "      <td>1</td>\n",
              "      <td>1</td>\n",
              "    </tr>\n",
              "  </tbody>\n",
              "</table>\n",
              "</div>"
            ],
            "text/plain": [
              "   A  B  C  D\n",
              "0  0  1  1  1\n",
              "1  0  1  0  1\n",
              "2  1  0  1  0\n",
              "3  0  1  0  1\n",
              "4  0  1  1  0\n",
              "5  0  1  1  1"
            ]
          },
          "metadata": {
            "tags": []
          },
          "execution_count": 35
        }
      ]
    },
    {
      "cell_type": "markdown",
      "metadata": {
        "id": "KW9YR0b9HLI1",
        "colab_type": "text"
      },
      "source": [
        "### Example: Recipte Database"
      ]
    },
    {
      "cell_type": "code",
      "metadata": {
        "id": "oJGLzBKRHXYd",
        "colab_type": "code",
        "colab": {
          "base_uri": "https://localhost:8080/",
          "height": 105
        },
        "outputId": "a5d028fd-90df-4c60-bef5-bc459630c2cb"
      },
      "source": [
        "!curl -O http://openrecipes.s3.amazonaws.com/recipeitems-latest.json.gz \n",
        "!gunzip recipeitems-latest.json.gz "
      ],
      "execution_count": 36,
      "outputs": [
        {
          "output_type": "stream",
          "text": [
            "  % Total    % Received % Xferd  Average Speed   Time    Time     Time  Current\n",
            "                                 Dload  Upload   Total   Spent    Left  Speed\n",
            "\r  0     0    0     0    0     0      0      0 --:--:-- --:--:-- --:--:--     0\r100    20  100    20    0     0     88      0 --:--:-- --:--:-- --:--:--    88\n",
            "gzip: recipeitems-latest.json already exists; do you wish to overwrite (y or n)? y\n"
          ],
          "name": "stdout"
        }
      ]
    },
    {
      "cell_type": "code",
      "metadata": {
        "id": "lMQNf3WBHc1r",
        "colab_type": "code",
        "colab": {
          "base_uri": "https://localhost:8080/",
          "height": 34
        },
        "outputId": "5560943a-8e01-4d67-b293-9158c9038b7d"
      },
      "source": [
        "try:\n",
        "    recipes = pd.read_json('recipeitems-latest.json')\n",
        "except ValueError as e:\n",
        "    print('ValueError: ', e)"
      ],
      "execution_count": 37,
      "outputs": [
        {
          "output_type": "stream",
          "text": [
            "ValueError:  Expected object or value\n"
          ],
          "name": "stdout"
        }
      ]
    }
  ]
}