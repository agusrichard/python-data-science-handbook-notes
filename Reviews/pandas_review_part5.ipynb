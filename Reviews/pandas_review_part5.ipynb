{
  "nbformat": 4,
  "nbformat_minor": 0,
  "metadata": {
    "colab": {
      "name": "pandas_review_part5.ipynb",
      "provenance": [],
      "collapsed_sections": []
    },
    "kernelspec": {
      "name": "python3",
      "display_name": "Python 3"
    }
  },
  "cells": [
    {
      "cell_type": "markdown",
      "metadata": {
        "id": "NtMiaL9JIvGN",
        "colab_type": "text"
      },
      "source": [
        "# Pandas Review Part V"
      ]
    },
    {
      "cell_type": "code",
      "metadata": {
        "id": "eBd-BGC_Kcv7",
        "colab_type": "code",
        "colab": {
          "base_uri": "https://localhost:8080/",
          "height": 71
        },
        "outputId": "36195511-a478-490e-ab40-17bcf06b78bb"
      },
      "source": [
        "import numpy as np\n",
        "import pandas as pd\n",
        "import matplotlib.pyplot as plt\n",
        "import seaborn as sns\n",
        "sns.set()"
      ],
      "execution_count": 1,
      "outputs": [
        {
          "output_type": "stream",
          "text": [
            "/usr/local/lib/python3.6/dist-packages/statsmodels/tools/_testing.py:19: FutureWarning: pandas.util.testing is deprecated. Use the functions in the public API at pandas.testing instead.\n",
            "  import pandas.util.testing as tm\n"
          ],
          "name": "stderr"
        }
      ]
    },
    {
      "cell_type": "markdown",
      "metadata": {
        "id": "DxH1Zj7zKhsN",
        "colab_type": "text"
      },
      "source": [
        "## Working with Time Series"
      ]
    },
    {
      "cell_type": "markdown",
      "metadata": {
        "id": "vbkt2nqtKm_U",
        "colab_type": "text"
      },
      "source": [
        "### Dates and Times in Python"
      ]
    },
    {
      "cell_type": "code",
      "metadata": {
        "id": "GxvTKFcZK_g9",
        "colab_type": "code",
        "colab": {
          "base_uri": "https://localhost:8080/",
          "height": 34
        },
        "outputId": "5ccab0d9-0689-4cab-ef99-0f0db2bfd094"
      },
      "source": [
        "from datetime import datetime\n",
        "datetime(year=2020, month=9, day=21)"
      ],
      "execution_count": 2,
      "outputs": [
        {
          "output_type": "execute_result",
          "data": {
            "text/plain": [
              "datetime.datetime(2020, 9, 21, 0, 0)"
            ]
          },
          "metadata": {
            "tags": []
          },
          "execution_count": 2
        }
      ]
    },
    {
      "cell_type": "code",
      "metadata": {
        "id": "RdHq-EhFLGpg",
        "colab_type": "code",
        "colab": {}
      },
      "source": [
        "from dateutil import parser"
      ],
      "execution_count": 0,
      "outputs": []
    },
    {
      "cell_type": "code",
      "metadata": {
        "id": "7rziKpd-LM8U",
        "colab_type": "code",
        "colab": {}
      },
      "source": [
        "date = parser.parse('21st of September, 2020')"
      ],
      "execution_count": 0,
      "outputs": []
    },
    {
      "cell_type": "code",
      "metadata": {
        "id": "ydBRRZzSLS0P",
        "colab_type": "code",
        "colab": {
          "base_uri": "https://localhost:8080/",
          "height": 34
        },
        "outputId": "48303ed9-ba5b-41ab-bc55-2e54fa21dd26"
      },
      "source": [
        "date.strftime('%A')"
      ],
      "execution_count": 7,
      "outputs": [
        {
          "output_type": "execute_result",
          "data": {
            "text/plain": [
              "'Monday'"
            ]
          },
          "metadata": {
            "tags": []
          },
          "execution_count": 7
        }
      ]
    },
    {
      "cell_type": "code",
      "metadata": {
        "id": "HFuO5RLxLdYL",
        "colab_type": "code",
        "colab": {}
      },
      "source": [
        "date = np.array('2015-07-04', dtype=np.datetime64)"
      ],
      "execution_count": 0,
      "outputs": []
    },
    {
      "cell_type": "code",
      "metadata": {
        "id": "FiqKwAhhLt6A",
        "colab_type": "code",
        "colab": {
          "base_uri": "https://localhost:8080/",
          "height": 34
        },
        "outputId": "27d97af3-5727-4636-ff8f-7b98772125e1"
      },
      "source": [
        "date"
      ],
      "execution_count": 9,
      "outputs": [
        {
          "output_type": "execute_result",
          "data": {
            "text/plain": [
              "array('2015-07-04', dtype='datetime64[D]')"
            ]
          },
          "metadata": {
            "tags": []
          },
          "execution_count": 9
        }
      ]
    },
    {
      "cell_type": "code",
      "metadata": {
        "id": "PUwPNUXOLu8p",
        "colab_type": "code",
        "colab": {
          "base_uri": "https://localhost:8080/",
          "height": 85
        },
        "outputId": "a554df76-7a07-47c1-cf72-239155831e86"
      },
      "source": [
        "date + np.arange(12)"
      ],
      "execution_count": 10,
      "outputs": [
        {
          "output_type": "execute_result",
          "data": {
            "text/plain": [
              "array(['2015-07-04', '2015-07-05', '2015-07-06', '2015-07-07',\n",
              "       '2015-07-08', '2015-07-09', '2015-07-10', '2015-07-11',\n",
              "       '2015-07-12', '2015-07-13', '2015-07-14', '2015-07-15'],\n",
              "      dtype='datetime64[D]')"
            ]
          },
          "metadata": {
            "tags": []
          },
          "execution_count": 10
        }
      ]
    },
    {
      "cell_type": "code",
      "metadata": {
        "id": "0xWcSocZL22F",
        "colab_type": "code",
        "colab": {
          "base_uri": "https://localhost:8080/",
          "height": 34
        },
        "outputId": "efff600a-68c0-45f5-e199-842d5077ebc6"
      },
      "source": [
        "date = pd.to_datetime('2019-09-12')\n",
        "date"
      ],
      "execution_count": 11,
      "outputs": [
        {
          "output_type": "execute_result",
          "data": {
            "text/plain": [
              "Timestamp('2019-09-12 00:00:00')"
            ]
          },
          "metadata": {
            "tags": []
          },
          "execution_count": 11
        }
      ]
    },
    {
      "cell_type": "markdown",
      "metadata": {
        "id": "E4XpBhT4MLvJ",
        "colab_type": "text"
      },
      "source": [
        "### Pandas Time Series: Indexing by Time"
      ]
    },
    {
      "cell_type": "code",
      "metadata": {
        "id": "Wy2r26dLMhPK",
        "colab_type": "code",
        "colab": {}
      },
      "source": [
        "index = pd.DatetimeIndex(['2014-07-04', '2014-08-04',                                  \n",
        "                          '2015-07-04', '2015-08-04'])"
      ],
      "execution_count": 0,
      "outputs": []
    },
    {
      "cell_type": "code",
      "metadata": {
        "id": "GXCehYtaMmpv",
        "colab_type": "code",
        "colab": {
          "base_uri": "https://localhost:8080/",
          "height": 102
        },
        "outputId": "962eebec-a910-40c7-a86a-f63bc07baa70"
      },
      "source": [
        "data = pd.Series([1, 2, 3, 4], index=index)\n",
        "data"
      ],
      "execution_count": 13,
      "outputs": [
        {
          "output_type": "execute_result",
          "data": {
            "text/plain": [
              "2014-07-04    1\n",
              "2014-08-04    2\n",
              "2015-07-04    3\n",
              "2015-08-04    4\n",
              "dtype: int64"
            ]
          },
          "metadata": {
            "tags": []
          },
          "execution_count": 13
        }
      ]
    },
    {
      "cell_type": "code",
      "metadata": {
        "id": "w5TO98ouMqk0",
        "colab_type": "code",
        "colab": {
          "base_uri": "https://localhost:8080/",
          "height": 68
        },
        "outputId": "0b961ff8-3dcb-4507-a0a8-5568d7ae47a8"
      },
      "source": [
        "data['2015']"
      ],
      "execution_count": 14,
      "outputs": [
        {
          "output_type": "execute_result",
          "data": {
            "text/plain": [
              "2015-07-04    3\n",
              "2015-08-04    4\n",
              "dtype: int64"
            ]
          },
          "metadata": {
            "tags": []
          },
          "execution_count": 14
        }
      ]
    },
    {
      "cell_type": "markdown",
      "metadata": {
        "id": "GQMkIjyaMvGB",
        "colab_type": "text"
      },
      "source": [
        "### Resampling, Shifting, and Windowing"
      ]
    },
    {
      "cell_type": "code",
      "metadata": {
        "id": "o3mCzTvHNSbD",
        "colab_type": "code",
        "colab": {}
      },
      "source": [
        ""
      ],
      "execution_count": 0,
      "outputs": []
    }
  ]
}